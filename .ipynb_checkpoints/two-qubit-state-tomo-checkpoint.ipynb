{
 "cells": [
  {
   "cell_type": "code",
   "execution_count": 60,
   "metadata": {
    "collapsed": false
   },
   "outputs": [],
   "source": [
    "from __future__ import division, print_function\n",
    "from future.builtins import next\n",
    "import numpy as np\n",
    "import ipyparallel\n",
    "import itertools as it\n",
    "from functools import partial\n",
    "import qinfer as qi\n",
    "import qutip as qt\n",
    "import pickle\n",
    "import matplotlib.pyplot as plt\n",
    "%matplotlib inline\n",
    "\n",
    "plt.style.use('ggplot')"
   ]
  },
  {
   "cell_type": "code",
   "execution_count": 14,
   "metadata": {
    "collapsed": true
   },
   "outputs": [],
   "source": [
    "#Define Tomographic Measurements\n",
    "Id = np.eye(2, dtype=complex)\n",
    "X = np.array([[0.0, 1.0],\n",
    "              [1.0, 0.0]])\n",
    "Y = np.array([[0.0, -1.0j],\n",
    "              [1.0j, 0.0]])\n",
    "Z = np.array([[1.0, 0.0],\n",
    "              [0.0, -1.0]])\n",
    "\n",
    "PiX = np.cos(np.pi/2.) * Id - 1.j * np.sin(np.pi/2.) * X\n",
    "PiX2 = np.cos(np.pi/4.) * Id - 1.j * np.sin(np.pi/4.) * X\n",
    "PiY2 = np.cos(np.pi/4.) * Id - 1.j * np.sin(np.pi/4.) * Y"
   ]
  },
  {
   "cell_type": "markdown",
   "metadata": {
    "collapsed": false
   },
   "source": [
    "# Single Qubit Tests"
   ]
  },
  {
   "cell_type": "code",
   "execution_count": 34,
   "metadata": {
    "collapsed": false
   },
   "outputs": [
    {
     "data": {
      "text/html": [
       "\n",
       "            <strong>TomographyBasis:</strong>\n",
       "                dims=$2$\n",
       "            <p>\n",
       "                \\begin{equation}\n",
       "                    \n",
       "                𝟙 =                   \n",
       "                \\left(\\begin{matrix}\n",
       "                    0.707&0\\\\0&0.707\n",
       "                \\end{matrix}\\right)\n",
       "                ,\n",
       "                \\sigma_x =                   \n",
       "                \\left(\\begin{matrix}\n",
       "                    0&0.707\\\\0.707&0\n",
       "                \\end{matrix}\\right)\n",
       "                ,\n",
       "                \\sigma_y =                   \n",
       "                \\left(\\begin{matrix}\n",
       "                    0&-0.707\\mathrm{i}\\\\0.707\\mathrm{i}&0\n",
       "                \\end{matrix}\\right)\n",
       "                ,\n",
       "                \\sigma_z =                   \n",
       "                \\left(\\begin{matrix}\n",
       "                    0.707&0\\\\0&-0.707\n",
       "                \\end{matrix}\\right)\n",
       "                \n",
       "                \\end{equation}\n",
       "            </p>\n",
       "            "
      ],
      "text/plain": [
       "<TomographyBasis pauli_basis dims=[2] at 0x119e49150>"
      ]
     },
     "execution_count": 34,
     "metadata": {},
     "output_type": "execute_result"
    }
   ],
   "source": [
    "basis = qi.tomography.pauli_basis(1)\n",
    "model = qi.BinomialModel(qi.tomography.TomographyModel(basis))\n",
    "prior = qi.tomography.GinibreDistribution(basis)\n",
    "basis"
   ]
  },
  {
   "cell_type": "code",
   "execution_count": 35,
   "metadata": {
    "collapsed": false
   },
   "outputs": [
    {
     "data": {
      "text/latex": [
       "Quantum object: dims = [[2], [2]], shape = (2, 2), type = oper, isherm = True\\begin{equation*}\\left(\\begin{array}{*{11}c}1.000 & 0.0\\\\0.0 & 0.0\\\\\\end{array}\\right)\\end{equation*}"
      ],
      "text/plain": [
       "Quantum object: dims = [[2], [2]], shape = (2, 2), type = oper, isherm = True\n",
       "Qobj data =\n",
       "[[ 1.  0.]\n",
       " [ 0.  0.]]"
      ]
     },
     "execution_count": 35,
     "metadata": {},
     "output_type": "execute_result"
    }
   ],
   "source": [
    "fiducial_measurement = basis.modelparams_to_state(np.array([1,0,0,1])/np.sqrt(2))\n",
    "fiducial_measurement"
   ]
  },
  {
   "cell_type": "code",
   "execution_count": 36,
   "metadata": {
    "collapsed": false
   },
   "outputs": [],
   "source": [
    "SingleMeasurementList = [Id, PiX, PiX2, PiY2]"
   ]
  },
  {
   "cell_type": "code",
   "execution_count": 37,
   "metadata": {
    "collapsed": false
   },
   "outputs": [],
   "source": [
    "meas_ops=[]\n",
    "meas_ops += [qt.Qobj(op) for op in SingleMeasurementList]\n",
    "\n",
    "expparams = np.empty((len(meas_ops),),dtype=model.expparams_dtype)\n",
    "\n",
    "expparams['meas'] = [basis.state_to_modelparams(op) for op in meas_ops]\n",
    "expparams['n_meas'] = 50"
   ]
  },
  {
   "cell_type": "code",
   "execution_count": 38,
   "metadata": {
    "collapsed": true
   },
   "outputs": [],
   "source": [
    "def cycle_heuristic(expparams):\n",
    "    \n",
    "    def heuristic(updater):\n",
    "        return partial(next, it.cycle(expparams[:, np.newaxis]))\n",
    "    \n",
    "    return heuristic"
   ]
  },
  {
   "cell_type": "code",
   "execution_count": 39,
   "metadata": {
    "collapsed": true
   },
   "outputs": [],
   "source": [
    "perf = qi.perf_test_multiple(50,\n",
    "    model, 500, prior,\n",
    "    len(expparams), cycle_heuristic(expparams),\n",
    "    progressbar=qi.IPythonProgressBar\n",
    ")"
   ]
  },
  {
   "cell_type": "code",
   "execution_count": 40,
   "metadata": {
    "collapsed": false
   },
   "outputs": [
    {
     "data": {
      "text/plain": [
       "[<matplotlib.lines.Line2D at 0x119d5d290>]"
      ]
     },
     "execution_count": 40,
     "metadata": {},
     "output_type": "execute_result"
    },
    {
     "data": {
      "image/png": "[encoded data removed]",
      "text/plain": [
       "<matplotlib.figure.Figure at 0x119d5d550>"
      ]
     },
     "metadata": {},
     "output_type": "display_data"
    }
   ],
   "source": [
    "plt.plot(np.median(perf['loss'], axis=0))\n",
    "plt.plot(np.mean(perf['loss'], axis=0))"
   ]
  },
  {
   "cell_type": "code",
   "execution_count": 103,
   "metadata": {
    "collapsed": false
   },
   "outputs": [],
   "source": [
    "GS_Single_Qubit_data=pickle.load(open(\"GS_Single_Qubit_data\",\"r\"))\n",
    "exp_data=GS_Single_Qubit_data[\"Measurements\"]"
   ]
  },
  {
   "cell_type": "code",
   "execution_count": 132,
   "metadata": {
    "collapsed": false
   },
   "outputs": [
    {
     "data": {
      "text/latex": [
       "Quantum object: dims = [[2], [2]], shape = (2, 2), type = oper, isherm = True\\begin{equation*}\\left(\\begin{array}{*{11}c}0.0 & 0.0\\\\0.0 & 1.0\\\\\\end{array}\\right)\\end{equation*}"
      ],
      "text/plain": [
       "Quantum object: dims = [[2], [2]], shape = (2, 2), type = oper, isherm = True\n",
       "Qobj data =\n",
       "[[ 0.  0.]\n",
       " [ 0.  1.]]"
      ]
     },
     "execution_count": 132,
     "metadata": {},
     "output_type": "execute_result"
    }
   ],
   "source": [
    "expparams['n_meas'] = 10\n",
    "number_of_batches = 10\n",
    "\n",
    "true_state = qt.Qobj([[0, 0],[0, 1]])\n",
    "\n",
    "true_mps = basis.state_to_modelparams(true_state)[np.newaxis, :]\n",
    "# exp_data=np.round(np.multiply(GS_2[0:32],expparams['n_meas'][0]*number_of_batches))\n",
    "\n",
    "true_state"
   ]
  },
  {
   "cell_type": "code",
   "execution_count": 133,
   "metadata": {
    "collapsed": true
   },
   "outputs": [],
   "source": [
    "ideal_data = [0] * 4\n",
    "\n",
    "for batch in range(number_of_batches):\n",
    "    i=0\n",
    "    for experiment in expparams[:, np.newaxis]:\n",
    "        datum = model.simulate_experiment(true_mps, experiment)\n",
    "        ideal_data[i]+=datum\n",
    "        i+=1"
   ]
  },
  {
   "cell_type": "code",
   "execution_count": 134,
   "metadata": {
    "collapsed": false
   },
   "outputs": [
    {
     "data": {
      "text/plain": [
       "[<matplotlib.lines.Line2D at 0x136ff4110>]"
      ]
     },
     "execution_count": 134,
     "metadata": {},
     "output_type": "execute_result"
    },
    {
     "data": {
      "image/png": "[encoded data removed]",
      "text/plain": [
       "<matplotlib.figure.Figure at 0x136848390>"
      ]
     },
     "metadata": {},
     "output_type": "display_data"
    }
   ],
   "source": [
    "fixed_data=[0, 0, 0, 0 ]\n",
    "for i in range(100):\n",
    "    fixed_data+=exp_data[i][0:4]\n",
    "\n",
    "plt.plot(fixed_data)"
   ]
  },
  {
   "cell_type": "code",
   "execution_count": 136,
   "metadata": {
    "collapsed": false
   },
   "outputs": [
    {
     "data": {
      "text/plain": [
       "[<matplotlib.lines.Line2D at 0x1367178d0>]"
      ]
     },
     "execution_count": 136,
     "metadata": {},
     "output_type": "execute_result"
    },
    {
     "data": {
      "image/png": "[encoded data removed]",
      "text/plain": [
       "<matplotlib.figure.Figure at 0x136717410>"
      ]
     },
     "metadata": {},
     "output_type": "display_data"
    }
   ],
   "source": [
    "plt.plot(fixed_data)\n",
    "plt.plot(np.divide(ideal_data,1))"
   ]
  },
  {
   "cell_type": "code",
   "execution_count": 137,
   "metadata": {
    "collapsed": false
   },
   "outputs": [
    {
     "ename": "RuntimeError",
     "evalue": "All particle weights are zero.",
     "output_type": "error",
     "traceback": [
      "\u001b[0;31m---------------------------------------------------------------------------\u001b[0m",
      "\u001b[0;31mRuntimeError\u001b[0m                              Traceback (most recent call last)",
      "\u001b[0;32m<ipython-input-137-40505cb7d1f9>\u001b[0m in \u001b[0;36m<module>\u001b[0;34m()\u001b[0m\n\u001b[1;32m      6\u001b[0m     \u001b[0;32mfor\u001b[0m \u001b[0mexperiment\u001b[0m \u001b[0;32min\u001b[0m \u001b[0mexpparams\u001b[0m\u001b[0;34m[\u001b[0m\u001b[0;34m:\u001b[0m\u001b[0;34m,\u001b[0m \u001b[0mnp\u001b[0m\u001b[0;34m.\u001b[0m\u001b[0mnewaxis\u001b[0m\u001b[0;34m]\u001b[0m\u001b[0;34m:\u001b[0m\u001b[0;34m\u001b[0m\u001b[0m\n\u001b[1;32m      7\u001b[0m         \u001b[0mdatum\u001b[0m\u001b[0;34m=\u001b[0m\u001b[0mnp\u001b[0m\u001b[0;34m.\u001b[0m\u001b[0mround\u001b[0m\u001b[0;34m(\u001b[0m\u001b[0mexp_data\u001b[0m\u001b[0;34m[\u001b[0m\u001b[0mi\u001b[0m\u001b[0;34m]\u001b[0m\u001b[0;34m/\u001b[0m\u001b[0mnumber_of_batches\u001b[0m\u001b[0;34m)\u001b[0m\u001b[0;34m\u001b[0m\u001b[0m\n\u001b[0;32m----> 8\u001b[0;31m         \u001b[0mupdater\u001b[0m\u001b[0;34m.\u001b[0m\u001b[0mupdate\u001b[0m\u001b[0;34m(\u001b[0m\u001b[0mdatum\u001b[0m\u001b[0;34m,\u001b[0m \u001b[0mexperiment\u001b[0m\u001b[0;34m)\u001b[0m\u001b[0;34m\u001b[0m\u001b[0m\n\u001b[0m\u001b[1;32m      9\u001b[0m         \u001b[0mi\u001b[0m\u001b[0;34m+=\u001b[0m\u001b[0;36m1\u001b[0m\u001b[0;34m\u001b[0m\u001b[0m\n",
      "\u001b[0;32m/Users/jcolless/anaconda/lib/python2.7/site-packages/qinfer/smc.pyc\u001b[0m in \u001b[0;36mupdate\u001b[0;34m(self, outcome, expparams, check_for_resample)\u001b[0m\n\u001b[1;32m    441\u001b[0m                 \u001b[0mwarnings\u001b[0m\u001b[0;34m.\u001b[0m\u001b[0mwarn\u001b[0m\u001b[0;34m(\u001b[0m\u001b[0;34m\"All particle weights are zero. This will very likely fail quite badly.\"\u001b[0m\u001b[0;34m,\u001b[0m \u001b[0mApproximationWarning\u001b[0m\u001b[0;34m)\u001b[0m\u001b[0;34m\u001b[0m\u001b[0m\n\u001b[1;32m    442\u001b[0m             \u001b[0;32melif\u001b[0m \u001b[0mself\u001b[0m\u001b[0;34m.\u001b[0m\u001b[0m_zero_weight_policy\u001b[0m \u001b[0;34m==\u001b[0m \u001b[0;34m'error'\u001b[0m\u001b[0;34m:\u001b[0m\u001b[0;34m\u001b[0m\u001b[0m\n\u001b[0;32m--> 443\u001b[0;31m                 \u001b[0;32mraise\u001b[0m \u001b[0mRuntimeError\u001b[0m\u001b[0;34m(\u001b[0m\u001b[0;34m\"All particle weights are zero.\"\u001b[0m\u001b[0;34m)\u001b[0m\u001b[0;34m\u001b[0m\u001b[0m\n\u001b[0m\u001b[1;32m    444\u001b[0m             \u001b[0;32melif\u001b[0m \u001b[0mself\u001b[0m\u001b[0;34m.\u001b[0m\u001b[0m_zero_weight_policy\u001b[0m \u001b[0;34m==\u001b[0m \u001b[0;34m'reset'\u001b[0m\u001b[0;34m:\u001b[0m\u001b[0;34m\u001b[0m\u001b[0m\n\u001b[1;32m    445\u001b[0m                 \u001b[0mwarnings\u001b[0m\u001b[0;34m.\u001b[0m\u001b[0mwarn\u001b[0m\u001b[0;34m(\u001b[0m\u001b[0;34m\"All particle weights are zero. Resetting from initial prior.\"\u001b[0m\u001b[0;34m,\u001b[0m \u001b[0mApproximationWarning\u001b[0m\u001b[0;34m)\u001b[0m\u001b[0;34m\u001b[0m\u001b[0m\n",
      "\u001b[0;31mRuntimeError\u001b[0m: All particle weights are zero."
     ]
    }
   ],
   "source": [
    "updater = qi.SMCUpdater(model, 10000, prior)\n",
    "# updater = qi.SMCUpdater(parallel_model, 10000, prior)\n",
    "\n",
    "for batch in range(number_of_batches):\n",
    "    i=0\n",
    "    for experiment in expparams[:, np.newaxis]:\n",
    "        datum=np.round(exp_data[i]/number_of_batches)\n",
    "        updater.update(datum, experiment)\n",
    "        i+=1"
   ]
  },
  {
   "cell_type": "markdown",
   "metadata": {},
   "source": [
    "# Two-Qubit Tests"
   ]
  },
  {
   "cell_type": "code",
   "execution_count": 7,
   "metadata": {
    "collapsed": false
   },
   "outputs": [],
   "source": [
    "basis = qi.tomography.pauli_basis(2)\n",
    "model = qi.BinomialModel(qi.tomography.TomographyModel(basis))\n",
    "prior = qi.tomography.GinibreDistribution(basis)"
   ]
  },
  {
   "cell_type": "code",
   "execution_count": 8,
   "metadata": {
    "collapsed": false
   },
   "outputs": [
    {
     "data": {
      "text/latex": [
       "Quantum object: dims = [[2, 2], [2, 2]], shape = (4, 4), type = oper, isherm = True\\begin{equation*}\\left(\\begin{array}{*{11}c}1.0 & 0.0 & 0.0 & 0.0\\\\0.0 & 0.0 & 0.0 & 0.0\\\\0.0 & 0.0 & 0.0 & 0.0\\\\0.0 & 0.0 & 0.0 & 0.0\\\\\\end{array}\\right)\\end{equation*}"
      ],
      "text/plain": [
       "Quantum object: dims = [[2, 2], [2, 2]], shape = (4, 4), type = oper, isherm = True\n",
       "Qobj data =\n",
       "[[ 1.  0.  0.  0.]\n",
       " [ 0.  0.  0.  0.]\n",
       " [ 0.  0.  0.  0.]\n",
       " [ 0.  0.  0.  0.]]"
      ]
     },
     "execution_count": 8,
     "metadata": {},
     "output_type": "execute_result"
    }
   ],
   "source": [
    "fiducial_measurement = qt.ket2dm(qt.tensor([qt.basis(2, 0)] * 2))\n",
    "fiducial_measurement"
   ]
  },
  {
   "cell_type": "code",
   "execution_count": null,
   "metadata": {
    "collapsed": true
   },
   "outputs": [],
   "source": []
  },
  {
   "cell_type": "code",
   "execution_count": 9,
   "metadata": {
    "collapsed": false
   },
   "outputs": [],
   "source": [
    "def PreRotationMeasurements(single_qubit_ops, core_measurement, n_qubits=2, include_conjugate=True):\n",
    "    \"\"\"Generate a set of measurement operators based on a set of rotations of a core measurement,\n",
    "    optionally including the conjugate of the same measurements as well.  Easily generates the sets in\n",
    "    http://journals.aps.org/pra/pdf/10.1103/PhysRevA.81.062325 using [I, PiX, PiX2, PiY2], M = |00><00|,\n",
    "    include_conjugate=True\"\"\"\n",
    "\n",
    "    assert (n_qubits == 2) #May optionally generalize later\n",
    "\n",
    "    FullMeasurementList = []\n",
    "    \n",
    "    for m1 in single_qubit_ops:\n",
    "        for m2 in single_qubit_ops:\n",
    "            FullMeasurementList.append(np.dot(np.conj(np.kron(m1, m2).T), np.dot(core_measurement, np.kron(m1, m2))))\n",
    "\n",
    "    if (include_conjugate):\n",
    "        FullMeasurementList.extend([np.conj(m) for m in FullMeasurementList])\n",
    "\n",
    "    return FullMeasurementList\n",
    "\n",
    "beta_vec=[0.32182797213542436,0.20388382857043799,0.26690981910827039,0.17047277839951108]\n",
    "# beta_vec=[0.25,.25,.25,.25]\n",
    "CoreMeasurement = (np.kron(Id, Id) + np.kron(Z, Id) + np.kron(Id,Z) + np.kron(Z,Z))\n",
    "\n",
    "CoreMeasurement=np.multiply(CoreMeasurement,beta_vec)\n",
    "\n",
    "FullMeasurementList = PreRotationMeasurements(SingleMeasurementList, CoreMeasurement, \n",
    "                                              n_qubits=2, include_conjugate=True)"
   ]
  },
  {
   "cell_type": "code",
   "execution_count": 10,
   "metadata": {
    "collapsed": false
   },
   "outputs": [],
   "source": [
    "meas_ops=[]\n",
    "meas_ops += [qt.Qobj(op) for op in FullMeasurementList]\n",
    "\n",
    "expparams = np.empty((len(meas_ops),),dtype=model.expparams_dtype)\n",
    "\n",
    "expparams['meas'] = [basis.state_to_modelparams(op) for op in meas_ops]\n",
    "expparams['n_meas'] = 50"
   ]
  },
  {
   "cell_type": "code",
   "execution_count": 539,
   "metadata": {
    "collapsed": false,
    "scrolled": false
   },
   "outputs": [
    {
     "name": "stderr",
     "output_type": "stream",
     "text": [
      "/Users/jcolless/anaconda/lib/python2.7/site-packages/qinfer/smc.py:285: ApproximationWarning: Extremely small n_ess encountered (6.74172039524). Resampling is likely to fail. Consider adding particles, or resampling more often.\n",
      "  ApproximationWarning\n",
      "/Users/jcolless/anaconda/lib/python2.7/site-packages/qinfer/smc.py:285: ApproximationWarning: Extremely small n_ess encountered (9.13020333115). Resampling is likely to fail. Consider adding particles, or resampling more often.\n",
      "  ApproximationWarning\n"
     ]
    }
   ],
   "source": [
    "perf = qi.perf_test_multiple(50,\n",
    "    model, 500, prior,\n",
    "    len(expparams), cycle_heuristic(expparams),\n",
    "    progressbar=qi.IPythonProgressBar\n",
    ")"
   ]
  },
  {
   "cell_type": "code",
   "execution_count": 714,
   "metadata": {
    "collapsed": false
   },
   "outputs": [
    {
     "data": {
      "text/plain": [
       "[<matplotlib.lines.Line2D at 0x1193bc3d0>]"
      ]
     },
     "execution_count": 714,
     "metadata": {},
     "output_type": "execute_result"
    },
    {
     "data": {
      "image/png": "[encoded data removed]",
      "text/plain": [
       "<matplotlib.figure.Figure at 0x11bde0f10>"
      ]
     },
     "metadata": {},
     "output_type": "display_data"
    }
   ],
   "source": [
    "plt.plot(np.median(perf['loss'], axis=0))\n",
    "plt.plot(np.mean(perf['loss'], axis=0))"
   ]
  },
  {
   "cell_type": "markdown",
   "metadata": {
    "collapsed": true
   },
   "source": [
    "## Updater Loop ##"
   ]
  },
  {
   "cell_type": "code",
   "execution_count": 12,
   "metadata": {
    "collapsed": false
   },
   "outputs": [],
   "source": [
    "GS_data=np.load(\"GS_data.npy\")\n",
    "EE_data=np.load(\"EE_data.npy\")\n",
    "exp_data=EE_data"
   ]
  },
  {
   "cell_type": "code",
   "execution_count": 13,
   "metadata": {
    "collapsed": false
   },
   "outputs": [
    {
     "name": "stdout",
     "output_type": "stream",
     "text": [
      "[ 0.00135996  0.08076701  0.052682    0.02520824  0.09174967  0.91999155\n",
      "  0.55405832  0.51292121  0.03480982  0.41118087  0.26868175  0.19832611\n",
      "  0.04374498  0.49566964  0.27591583  0.28463107  0.00326315  0.09587489\n",
      "  0.03462633  0.03297723  0.07358807  0.9487208   0.54751977  0.58515699\n",
      "  0.03821165  0.55067654  0.25551489  0.26195085  0.03234245  0.4657218\n",
      "  0.23641747  0.26281347]\n"
     ]
    },
    {
     "data": {
      "text/latex": [
       "Quantum object: dims = [[2, 2], [2, 2]], shape = (4, 4), type = oper, isherm = True\\begin{equation*}\\left(\\begin{array}{*{11}c}0.0 & 0.0 & 0.0 & 0.0\\\\0.0 & 0.0 & 0.0 & 0.0\\\\0.0 & 0.0 & 0.0 & 0.0\\\\0.0 & 0.0 & 0.0 & 1.0\\\\\\end{array}\\right)\\end{equation*}"
      ],
      "text/plain": [
       "Quantum object: dims = [[2, 2], [2, 2]], shape = (4, 4), type = oper, isherm = True\n",
       "Qobj data =\n",
       "[[ 0.  0.  0.  0.]\n",
       " [ 0.  0.  0.  0.]\n",
       " [ 0.  0.  0.  0.]\n",
       " [ 0.  0.  0.  1.]]"
      ]
     },
     "execution_count": 13,
     "metadata": {},
     "output_type": "execute_result"
    }
   ],
   "source": [
    "expparams['n_meas'] = 25\n",
    "number_of_batches = 200\n",
    "\n",
    "true_state = qt.tensor(qt.Qobj([[0, 0],[0, 1]]),qt.Qobj([[0, 0],[0, 1]]))\n",
    "\n",
    "true_mps = basis.state_to_modelparams(true_state)[np.newaxis, :]\n",
    "# exp_data=np.round(np.multiply(GS_2[0:32],expparams['n_meas'][0]*number_of_batches))\n",
    "\n",
    "print(exp_data)\n",
    "true_state"
   ]
  },
  {
   "cell_type": "code",
   "execution_count": 14,
   "metadata": {
    "collapsed": false
   },
   "outputs": [],
   "source": [
    "ideal_data = [0] * 32\n",
    "\n",
    "for batch in range(number_of_batches):\n",
    "    i=0\n",
    "    for experiment in expparams[:, np.newaxis]:\n",
    "        datum = model.simulate_experiment(true_mps, experiment)\n",
    "        ideal_data[i]+=datum\n",
    "        i+=1"
   ]
  },
  {
   "cell_type": "code",
   "execution_count": 15,
   "metadata": {
    "collapsed": false
   },
   "outputs": [
    {
     "data": {
      "text/plain": [
       "[<matplotlib.lines.Line2D at 0x10f539290>]"
      ]
     },
     "execution_count": 15,
     "metadata": {},
     "output_type": "execute_result"
    },
    {
     "data": {
      "image/png": "[encoded data removed]",
      "text/plain": [
       "<matplotlib.figure.Figure at 0x1112c0150>"
      ]
     },
     "metadata": {},
     "output_type": "display_data"
    }
   ],
   "source": [
    "plt.plot(ideal_data)\n",
    "plt.plot(exp_data*5000)\n",
    "# plt.show()\n",
    "# plt.plot(np.abs(ideal_data-exp_data)/3000)"
   ]
  },
  {
   "cell_type": "code",
   "execution_count": 16,
   "metadata": {
    "collapsed": false
   },
   "outputs": [
    {
     "data": {
      "text/plain": [
       "<module 'ipyparallel' from '/Users/jcolless/anaconda/lib/python2.7/site-packages/ipyparallel/__init__.pyc'>"
      ]
     },
     "execution_count": 16,
     "metadata": {},
     "output_type": "execute_result"
    }
   ],
   "source": [
    "import ipyparallel as ipp\n",
    "\n",
    "ipp"
   ]
  },
  {
   "cell_type": "code",
   "execution_count": 17,
   "metadata": {
    "collapsed": false
   },
   "outputs": [
    {
     "data": {
      "text/plain": [
       "<module 'dill' from '/Users/jcolless/anaconda/lib/python2.7/site-packages/dill/__init__.pyc'>"
      ]
     },
     "execution_count": 17,
     "metadata": {},
     "output_type": "execute_result"
    }
   ],
   "source": [
    "# from IPython.parallel import serialize\n",
    "import dill\n",
    "import dill as pkl\n",
    "\n",
    "rc = ipp.Client()\n",
    "\n",
    "# print(rc.ids)\n",
    "dview = rc[:]\n",
    "\n",
    "# dview.use_dill()\n",
    "parallel_model = qi.DirectViewParallelizedModel(model, dview, purge_client=False, serial_threshold=None)\n",
    "\n",
    "basis = qi.tomography.pauli_basis(2)\n",
    "model = qi.BinomialModel(qi.tomography.TomographyModel(basis))\n",
    "\n",
    "\n",
    "prior = qi.tomography.GinibreDistribution(basis)\n",
    "\n",
    "ipyparallel.serialize\n",
    "dill"
   ]
  },
  {
   "cell_type": "code",
   "execution_count": 18,
   "metadata": {
    "collapsed": false
   },
   "outputs": [
    {
     "ename": "CompositeError",
     "evalue": "one or more exceptions from call to method: serial_likelihood\n[0:apply]: ImportError: No module named 'ipyparallel.serialize'\n[1:apply]: ImportError: No module named 'ipyparallel.serialize'",
     "output_type": "error",
     "traceback": [
      "[0:apply]: ",
      "\u001b[0;31m---------------------------------------------------------------------------\u001b[0m\u001b[0;31mImportError\u001b[0m                               Traceback (most recent call last)\u001b[0;32m/usr/local/lib/python3.5/site-packages/ipykernel/serialize.py\u001b[0m in \u001b[0;36munpack_apply_message\u001b[0;34m(bufs, g, copy)\u001b[0m",
      "\u001b[1;32m    170\u001b[0m     \u001b[0margs\u001b[0m \u001b[0;34m=\u001b[0m \u001b[0;34m[\u001b[0m\u001b[0;34m]\u001b[0m\u001b[0;34m\u001b[0m\u001b[0m",
      "\u001b[1;32m    171\u001b[0m     \u001b[0;32mfor\u001b[0m \u001b[0mi\u001b[0m \u001b[0;32min\u001b[0m \u001b[0mrange\u001b[0m\u001b[0;34m(\u001b[0m\u001b[0minfo\u001b[0m\u001b[0;34m[\u001b[0m\u001b[0;34m'nargs'\u001b[0m\u001b[0;34m]\u001b[0m\u001b[0;34m)\u001b[0m\u001b[0;34m:\u001b[0m\u001b[0;34m\u001b[0m\u001b[0m",
      "\u001b[0;32m--> 172\u001b[0;31m         \u001b[0marg\u001b[0m\u001b[0;34m,\u001b[0m \u001b[0marg_bufs\u001b[0m \u001b[0;34m=\u001b[0m \u001b[0mdeserialize_object\u001b[0m\u001b[0;34m(\u001b[0m\u001b[0marg_bufs\u001b[0m\u001b[0;34m,\u001b[0m \u001b[0mg\u001b[0m\u001b[0;34m)\u001b[0m\u001b[0;34m\u001b[0m\u001b[0m",
      "\u001b[0m\u001b[1;32m    173\u001b[0m         \u001b[0margs\u001b[0m\u001b[0;34m.\u001b[0m\u001b[0mappend\u001b[0m\u001b[0;34m(\u001b[0m\u001b[0marg\u001b[0m\u001b[0;34m)\u001b[0m\u001b[0;34m\u001b[0m\u001b[0m",
      "\u001b[1;32m    174\u001b[0m     \u001b[0margs\u001b[0m \u001b[0;34m=\u001b[0m \u001b[0mtuple\u001b[0m\u001b[0;34m(\u001b[0m\u001b[0margs\u001b[0m\u001b[0;34m)\u001b[0m\u001b[0;34m\u001b[0m\u001b[0m",
      "\u001b[0;32m/usr/local/lib/python3.5/site-packages/ipykernel/serialize.py\u001b[0m in \u001b[0;36mdeserialize_object\u001b[0;34m(buffers, g)\u001b[0m",
      "\u001b[1;32m    108\u001b[0m     \u001b[0mbufs\u001b[0m \u001b[0;34m=\u001b[0m \u001b[0mlist\u001b[0m\u001b[0;34m(\u001b[0m\u001b[0mbuffers\u001b[0m\u001b[0;34m)\u001b[0m\u001b[0;34m\u001b[0m\u001b[0m",
      "\u001b[1;32m    109\u001b[0m     \u001b[0mpobj\u001b[0m \u001b[0;34m=\u001b[0m \u001b[0mbuffer_to_bytes_py2\u001b[0m\u001b[0;34m(\u001b[0m\u001b[0mbufs\u001b[0m\u001b[0;34m.\u001b[0m\u001b[0mpop\u001b[0m\u001b[0;34m(\u001b[0m\u001b[0;36m0\u001b[0m\u001b[0;34m)\u001b[0m\u001b[0;34m)\u001b[0m\u001b[0;34m\u001b[0m\u001b[0m",
      "\u001b[0;32m--> 110\u001b[0;31m     \u001b[0mcanned\u001b[0m \u001b[0;34m=\u001b[0m \u001b[0mpickle\u001b[0m\u001b[0;34m.\u001b[0m\u001b[0mloads\u001b[0m\u001b[0;34m(\u001b[0m\u001b[0mpobj\u001b[0m\u001b[0;34m)\u001b[0m\u001b[0;34m\u001b[0m\u001b[0m",
      "\u001b[0m\u001b[1;32m    111\u001b[0m     \u001b[0;32mif\u001b[0m \u001b[0mistype\u001b[0m\u001b[0;34m(\u001b[0m\u001b[0mcanned\u001b[0m\u001b[0;34m,\u001b[0m \u001b[0msequence_types\u001b[0m\u001b[0;34m)\u001b[0m \u001b[0;32mand\u001b[0m \u001b[0mlen\u001b[0m\u001b[0;34m(\u001b[0m\u001b[0mcanned\u001b[0m\u001b[0;34m)\u001b[0m \u001b[0;34m<\u001b[0m \u001b[0mMAX_ITEMS\u001b[0m\u001b[0;34m:\u001b[0m\u001b[0;34m\u001b[0m\u001b[0m",
      "\u001b[1;32m    112\u001b[0m         \u001b[0;32mfor\u001b[0m \u001b[0mc\u001b[0m \u001b[0;32min\u001b[0m \u001b[0mcanned\u001b[0m\u001b[0;34m:\u001b[0m\u001b[0;34m\u001b[0m\u001b[0m",
      "\u001b[0;31mImportError\u001b[0m: No module named 'ipyparallel.serialize'",
      "",
      "[1:apply]: ",
      "\u001b[0;31m---------------------------------------------------------------------------\u001b[0m\u001b[0;31mImportError\u001b[0m                               Traceback (most recent call last)\u001b[0;32m/usr/local/lib/python3.5/site-packages/ipykernel/serialize.py\u001b[0m in \u001b[0;36munpack_apply_message\u001b[0;34m(bufs, g, copy)\u001b[0m",
      "\u001b[1;32m    170\u001b[0m     \u001b[0margs\u001b[0m \u001b[0;34m=\u001b[0m \u001b[0;34m[\u001b[0m\u001b[0;34m]\u001b[0m\u001b[0;34m\u001b[0m\u001b[0m",
      "\u001b[1;32m    171\u001b[0m     \u001b[0;32mfor\u001b[0m \u001b[0mi\u001b[0m \u001b[0;32min\u001b[0m \u001b[0mrange\u001b[0m\u001b[0;34m(\u001b[0m\u001b[0minfo\u001b[0m\u001b[0;34m[\u001b[0m\u001b[0;34m'nargs'\u001b[0m\u001b[0;34m]\u001b[0m\u001b[0;34m)\u001b[0m\u001b[0;34m:\u001b[0m\u001b[0;34m\u001b[0m\u001b[0m",
      "\u001b[0;32m--> 172\u001b[0;31m         \u001b[0marg\u001b[0m\u001b[0;34m,\u001b[0m \u001b[0marg_bufs\u001b[0m \u001b[0;34m=\u001b[0m \u001b[0mdeserialize_object\u001b[0m\u001b[0;34m(\u001b[0m\u001b[0marg_bufs\u001b[0m\u001b[0;34m,\u001b[0m \u001b[0mg\u001b[0m\u001b[0;34m)\u001b[0m\u001b[0;34m\u001b[0m\u001b[0m",
      "\u001b[0m\u001b[1;32m    173\u001b[0m         \u001b[0margs\u001b[0m\u001b[0;34m.\u001b[0m\u001b[0mappend\u001b[0m\u001b[0;34m(\u001b[0m\u001b[0marg\u001b[0m\u001b[0;34m)\u001b[0m\u001b[0;34m\u001b[0m\u001b[0m",
      "\u001b[1;32m    174\u001b[0m     \u001b[0margs\u001b[0m \u001b[0;34m=\u001b[0m \u001b[0mtuple\u001b[0m\u001b[0;34m(\u001b[0m\u001b[0margs\u001b[0m\u001b[0;34m)\u001b[0m\u001b[0;34m\u001b[0m\u001b[0m",
      "\u001b[0;32m/usr/local/lib/python3.5/site-packages/ipykernel/serialize.py\u001b[0m in \u001b[0;36mdeserialize_object\u001b[0;34m(buffers, g)\u001b[0m",
      "\u001b[1;32m    108\u001b[0m     \u001b[0mbufs\u001b[0m \u001b[0;34m=\u001b[0m \u001b[0mlist\u001b[0m\u001b[0;34m(\u001b[0m\u001b[0mbuffers\u001b[0m\u001b[0;34m)\u001b[0m\u001b[0;34m\u001b[0m\u001b[0m",
      "\u001b[1;32m    109\u001b[0m     \u001b[0mpobj\u001b[0m \u001b[0;34m=\u001b[0m \u001b[0mbuffer_to_bytes_py2\u001b[0m\u001b[0;34m(\u001b[0m\u001b[0mbufs\u001b[0m\u001b[0;34m.\u001b[0m\u001b[0mpop\u001b[0m\u001b[0;34m(\u001b[0m\u001b[0;36m0\u001b[0m\u001b[0;34m)\u001b[0m\u001b[0;34m)\u001b[0m\u001b[0;34m\u001b[0m\u001b[0m",
      "\u001b[0;32m--> 110\u001b[0;31m     \u001b[0mcanned\u001b[0m \u001b[0;34m=\u001b[0m \u001b[0mpickle\u001b[0m\u001b[0;34m.\u001b[0m\u001b[0mloads\u001b[0m\u001b[0;34m(\u001b[0m\u001b[0mpobj\u001b[0m\u001b[0;34m)\u001b[0m\u001b[0;34m\u001b[0m\u001b[0m",
      "\u001b[0m\u001b[1;32m    111\u001b[0m     \u001b[0;32mif\u001b[0m \u001b[0mistype\u001b[0m\u001b[0;34m(\u001b[0m\u001b[0mcanned\u001b[0m\u001b[0;34m,\u001b[0m \u001b[0msequence_types\u001b[0m\u001b[0;34m)\u001b[0m \u001b[0;32mand\u001b[0m \u001b[0mlen\u001b[0m\u001b[0;34m(\u001b[0m\u001b[0mcanned\u001b[0m\u001b[0;34m)\u001b[0m \u001b[0;34m<\u001b[0m \u001b[0mMAX_ITEMS\u001b[0m\u001b[0;34m:\u001b[0m\u001b[0;34m\u001b[0m\u001b[0m",
      "\u001b[1;32m    112\u001b[0m         \u001b[0;32mfor\u001b[0m \u001b[0mc\u001b[0m \u001b[0;32min\u001b[0m \u001b[0mcanned\u001b[0m\u001b[0;34m:\u001b[0m\u001b[0;34m\u001b[0m\u001b[0m",
      "\u001b[0;31mImportError\u001b[0m: No module named 'ipyparallel.serialize'",
      ""
     ]
    }
   ],
   "source": [
    "# updater = qi.SMCUpdater(model, 10000, prior)\n",
    "updater = qi.SMCUpdater(parallel_model, 10000, prior)\n",
    "\n",
    "for batch in range(number_of_batches):\n",
    "    i=0\n",
    "    for experiment in expparams[:, np.newaxis]:\n",
    "        datum=np.round(exp_data[i]/number_of_batches)\n",
    "        updater.update(datum, experiment)\n",
    "        i+=1"
   ]
  },
  {
   "cell_type": "code",
   "execution_count": 31,
   "metadata": {
    "collapsed": false
   },
   "outputs": [
    {
     "data": {
      "text/latex": [
       "Quantum object: dims = [[2, 2], [2, 2]], shape = (4, 4), type = oper, isherm = True\\begin{equation*}\\left(\\begin{array}{*{11}c}0.098 & (0.018+0.046j) & (-0.025+0.064j) & (-0.021-0.063j)\\\\(0.018-0.046j) & 0.100 & (0.007-0.020j) & (-0.020+0.010j)\\\\(-0.025-0.064j) & (0.007+0.020j) & 0.365 & (0.100+0.147j)\\\\(-0.021+0.063j) & (-0.020-0.010j) & (0.100-0.147j) & 0.436\\\\\\end{array}\\right)\\end{equation*}"
      ],
      "text/plain": [
       "Quantum object: dims = [[2, 2], [2, 2]], shape = (4, 4), type = oper, isherm = True\n",
       "Qobj data =\n",
       "[[ 0.09801096+0.j          0.01806486+0.04606662j -0.02472867+0.0640661j\n",
       "  -0.02056761-0.0630029j ]\n",
       " [ 0.01806486-0.04606662j  0.10042560+0.j          0.00719813-0.01965881j\n",
       "  -0.01999807+0.00960275j]\n",
       " [-0.02472867-0.0640661j   0.00719813+0.01965881j  0.36542953+0.j\n",
       "   0.09958535+0.14712292j]\n",
       " [-0.02056761+0.0630029j  -0.01999807-0.00960275j  0.09958535-0.14712292j\n",
       "   0.43613390+0.j        ]]"
      ]
     },
     "execution_count": 31,
     "metadata": {},
     "output_type": "execute_result"
    }
   ],
   "source": [
    "est_state = basis.modelparams_to_state(updater.est_mean())\n",
    "est_state"
   ]
  },
  {
   "cell_type": "code",
   "execution_count": 687,
   "metadata": {
    "collapsed": false
   },
   "outputs": [
    {
     "data": {
      "text/latex": [
       "Quantum object: dims = [[2, 2], [2, 2]], shape = (4, 4), type = oper, isherm = True\\begin{equation*}\\left(\\begin{array}{*{11}c}1.0 & 0.0 & 0.0 & 0.0\\\\0.0 & 0.0 & 0.0 & 0.0\\\\0.0 & 0.0 & 0.0 & 0.0\\\\0.0 & 0.0 & 0.0 & 0.0\\\\\\end{array}\\right)\\end{equation*}"
      ],
      "text/plain": [
       "Quantum object: dims = [[2, 2], [2, 2]], shape = (4, 4), type = oper, isherm = True\n",
       "Qobj data =\n",
       "[[ 1.  0.  0.  0.]\n",
       " [ 0.  0.  0.  0.]\n",
       " [ 0.  0.  0.  0.]\n",
       " [ 0.  0.  0.  0.]]"
      ]
     },
     "execution_count": 687,
     "metadata": {},
     "output_type": "execute_result"
    }
   ],
   "source": [
    "true_state"
   ]
  },
  {
   "cell_type": "code",
   "execution_count": 455,
   "metadata": {
    "collapsed": false
   },
   "outputs": [
    {
     "data": {
      "text/plain": [
       "array([ 0.5       ,  0.04847909, -0.07169135,  0.31731047, -0.06881028,\n",
       "       -0.00680501,  0.13105656, -0.12479183,  0.05672536,  0.03937975,\n",
       "       -0.00556914,  0.06367069,  0.26528405, -0.03956664, -0.11278846,\n",
       "        0.24255185])"
      ]
     },
     "execution_count": 455,
     "metadata": {},
     "output_type": "execute_result"
    }
   ],
   "source": [
    "updater.est_mean()"
   ]
  },
  {
   "cell_type": "code",
   "execution_count": 456,
   "metadata": {
    "collapsed": false
   },
   "outputs": [
    {
     "data": {
      "text/plain": [
       "array([ -2.22044605e-16,  -4.84790920e-02,   7.16913482e-02,\n",
       "         1.82689526e-01,   6.88102787e-02,   6.80501189e-03,\n",
       "        -1.31056563e-01,   1.24791828e-01,  -5.67253589e-02,\n",
       "        -3.93797509e-02,   5.56913729e-03,  -6.36706922e-02,\n",
       "         2.34715954e-01,   3.95666419e-02,   1.12788463e-01,\n",
       "         2.57448149e-01])"
      ]
     },
     "execution_count": 456,
     "metadata": {},
     "output_type": "execute_result"
    }
   ],
   "source": [
    "(true_mps - updater.est_mean())[0, :]"
   ]
  },
  {
   "cell_type": "code",
   "execution_count": 457,
   "metadata": {
    "collapsed": false
   },
   "outputs": [
    {
     "data": {
      "text/plain": [
       "[<matplotlib.lines.Line2D at 0x117954950>]"
      ]
     },
     "execution_count": 457,
     "metadata": {},
     "output_type": "execute_result"
    },
    {
     "data": {
      "image/png": "[encoded data removed]",
      "text/plain": [
       "<matplotlib.figure.Figure at 0x117516ed0>"
      ]
     },
     "metadata": {},
     "output_type": "display_data"
    }
   ],
   "source": [
    "plt.plot(true_mps[0])"
   ]
  },
  {
   "cell_type": "code",
   "execution_count": 458,
   "metadata": {
    "collapsed": false
   },
   "outputs": [
    {
     "data": {
      "text/plain": [
       "<Container object of 16 artists>"
      ]
     },
     "execution_count": 458,
     "metadata": {},
     "output_type": "execute_result"
    },
    {
     "data": {
      "image/png": "[encoded data removed]",
      "text/plain": [
       "<matplotlib.figure.Figure at 0x11796d490>"
      ]
     },
     "metadata": {},
     "output_type": "display_data"
    }
   ],
   "source": [
    "plt.bar(np.arange(16), (true_mps - updater.est_mean())[0, :])\n",
    "# plt.xticks(np.arange(16) + 0.5, map(\"${}$\".format, basis.labels), rotation='vertical')"
   ]
  },
  {
   "cell_type": "markdown",
   "metadata": {},
   "source": [
    "NB: we omit the traceful part (modelparam 0) when taking the hull. The convex hull algorithm (quickhull) is fast in the number of points, but very slow in the number of dimensions, so this call will take a long time."
   ]
  },
  {
   "cell_type": "code",
   "execution_count": null,
   "metadata": {
    "collapsed": false
   },
   "outputs": [],
   "source": [
    "faces, vertices = updater.region_est_hull(modelparam_slice=np.s_[1:])"
   ]
  },
  {
   "cell_type": "code",
   "execution_count": 630,
   "metadata": {
    "collapsed": false
   },
   "outputs": [
    {
     "name": "stdout",
     "output_type": "stream",
     "text": [
      "GS_2\n"
     ]
    }
   ],
   "source": [
    "import h5py\n",
    "f = h5py.File('Fiducials.hdf5','r')\n",
    "\n",
    "for key in f.keys():\n",
    "    print(key)"
   ]
  },
  {
   "cell_type": "code",
   "execution_count": 631,
   "metadata": {
    "collapsed": false
   },
   "outputs": [],
   "source": [
    "GS_2=[]\n",
    "\n",
    "for data in f[\"GS_2\"]:\n",
    "    GS_2.append(data)"
   ]
  },
  {
   "cell_type": "code",
   "execution_count": 632,
   "metadata": {
    "collapsed": false
   },
   "outputs": [
    {
     "name": "stdout",
     "output_type": "stream",
     "text": [
      "[ 993.79707576   75.32122286  533.00841825  532.12228622   80.19494905\n",
      "    9.74745237   54.05405405   48.73726185  543.19893664   42.53433762\n",
      "  277.80239256  282.67611874  536.55294639   49.62339389  301.28489145\n",
      "  295.52503323  990.25254763   82.41027913  543.64200266  541.86973859\n",
      "   77.53655295   10.19051839   55.3832521    45.19273372  548.95879486\n",
      "   54.05405405  301.72795747  276.03012849  545.41426673   43.42046965\n",
      "  295.08196721  294.19583518]\n"
     ]
    }
   ],
   "source": [
    "print(np.multiply(GS_2,1000))"
   ]
  },
  {
   "cell_type": "code",
   "execution_count": 702,
   "metadata": {
    "collapsed": false
   },
   "outputs": [
    {
     "data": {
      "text/plain": [
       "[<matplotlib.lines.Line2D at 0x11c280d50>]"
      ]
     },
     "execution_count": 702,
     "metadata": {},
     "output_type": "execute_result"
    },
    {
     "data": {
      "image/png": "[encoded data removed]",
      "text/plain": [
       "<matplotlib.figure.Figure at 0x118a116d0>"
      ]
     },
     "metadata": {},
     "output_type": "display_data"
    }
   ],
   "source": [
    "plt.plot((GS_2[0:32]))\n",
    "# plt.show()\n",
    "# plt.plot(test_data)"
   ]
  },
  {
   "cell_type": "code",
   "execution_count": null,
   "metadata": {
    "collapsed": true
   },
   "outputs": [],
   "source": []
  }
 ],
 "metadata": {
  "anaconda-cloud": {},
  "kernelspec": {
   "display_name": "Python [conda root]",
   "language": "python",
   "name": "conda-root-py"
  },
  "language_info": {
   "codemirror_mode": {
    "name": "ipython",
    "version": 2
   },
   "file_extension": ".py",
   "mimetype": "text/x-python",
   "name": "python",
   "nbconvert_exporter": "python",
   "pygments_lexer": "ipython2",
   "version": "2.7.13"
  }
 },
 "nbformat": 4,
 "nbformat_minor": 1
}
