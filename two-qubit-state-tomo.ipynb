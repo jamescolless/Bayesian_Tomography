{
 "cells": [
  {
   "cell_type": "markdown",
   "metadata": {},
   "source": [
    "# Two-Qubit State Tomography #"
   ]
  },
  {
   "cell_type": "markdown",
   "metadata": {},
   "source": [
    "## Preamble ##"
   ]
  },
  {
   "cell_type": "markdown",
   "metadata": {},
   "source": [
    "We start by importing a few Python 2/3 compatability features and configuring Jupyter Notebook to use inline plotting."
   ]
  },
  {
   "cell_type": "code",
   "execution_count": 3,
   "metadata": {
    "collapsed": false
   },
   "outputs": [],
   "source": [
    "from __future__ import division, print_function\n",
    "from future.builtins import next\n",
    "from IPython.display import display, Math, Latex\n",
    "%matplotlib inline"
   ]
  },
  {
   "cell_type": "markdown",
   "metadata": {},
   "source": [
    "Next, we import a few Python standard library packages that will make our lives much easier."
   ]
  },
  {
   "cell_type": "code",
   "execution_count": 4,
   "metadata": {
    "collapsed": true
   },
   "outputs": [],
   "source": [
    "import itertools as it\n",
    "import pickle\n",
    "from functools import partial"
   ]
  },
  {
   "cell_type": "markdown",
   "metadata": {},
   "source": [
    "We also import the scientific computing libraries that we need."
   ]
  },
  {
   "cell_type": "code",
   "execution_count": 5,
   "metadata": {
    "collapsed": true
   },
   "outputs": [],
   "source": [
    "import numpy as np\n",
    "import ipyparallel\n",
    "import qinfer as qi\n",
    "import qutip as qt"
   ]
  },
  {
   "cell_type": "markdown",
   "metadata": {},
   "source": [
    "We finish the preamble by importing and configuring plotting support."
   ]
  },
  {
   "cell_type": "code",
   "execution_count": 6,
   "metadata": {
    "collapsed": true
   },
   "outputs": [],
   "source": [
    "import matplotlib.pyplot as plt\n",
    "plt.style.use('ggplot')"
   ]
  },
  {
   "cell_type": "markdown",
   "metadata": {},
   "source": [
    "## Notation ##"
   ]
  },
  {
   "cell_type": "markdown",
   "metadata": {},
   "source": [
    "We use QuTiP to define the Pauli group."
   ]
  },
  {
   "cell_type": "code",
   "execution_count": 7,
   "metadata": {
    "collapsed": true
   },
   "outputs": [],
   "source": [
    "Id, X, Y, Z = qt.qeye(2), qt.sigmax(), qt.sigmay(), qt.sigmaz()"
   ]
  },
  {
   "cell_type": "markdown",
   "metadata": {},
   "source": [
    "We can then expand the unitary operators $U_{\\theta,\\mu} = \\left.\\theta\\mu\\right)_x$, using the identity that $e^{-i \\theta \\sigma_\\mu} = \\cos(\\theta / 2)  \\mathbb{1} - \\sin(\\theta / 2) \\sigma_\\mu$. We will use these below to define measurements of our system."
   ]
  },
  {
   "cell_type": "code",
   "execution_count": 8,
   "metadata": {
    "collapsed": true
   },
   "outputs": [],
   "source": [
    "pi_x   = np.cos(np.pi/2.) * Id - 1.j * np.sin(np.pi/2.) * X\n",
    "pi_x_2 = np.cos(np.pi/4.) * Id - 1.j * np.sin(np.pi/4.) * X\n",
    "pi_y_2 = np.cos(np.pi/4.) * Id - 1.j * np.sin(np.pi/4.) * Y"
   ]
  },
  {
   "cell_type": "markdown",
   "metadata": {},
   "source": [
    "Finally, we'll define the action of a unitary $U$ on an operator $X$ as $U \\bullet X \\mathrel{:=} U X U^\\dagger$."
   ]
  },
  {
   "cell_type": "code",
   "execution_count": 9,
   "metadata": {
    "collapsed": true
   },
   "outputs": [],
   "source": [
    "def act(U, H):\n",
    "    return U * H * U.dag()"
   ]
  },
  {
   "cell_type": "markdown",
   "metadata": {
    "collapsed": false
   },
   "source": [
    "# Single Qubit Tests"
   ]
  },
  {
   "cell_type": "markdown",
   "metadata": {},
   "source": [
    "We start analyzing the single-qubit data by defining a basis for representing Hermitian operators as well as a QInfer model and prior distribution."
   ]
  },
  {
   "cell_type": "code",
   "execution_count": 10,
   "metadata": {
    "collapsed": false
   },
   "outputs": [
    {
     "data": {
      "text/html": [
       "\n",
       "            <strong>TomographyBasis:</strong>\n",
       "                dims=$2$\n",
       "            <p>\n",
       "                \\begin{equation}\n",
       "                    \n",
       "                𝟙 =                   \n",
       "                \\left(\\begin{matrix}\n",
       "                    0.707&0\\\\0&0.707\n",
       "                \\end{matrix}\\right)\n",
       "                ,\n",
       "                \\sigma_x =                   \n",
       "                \\left(\\begin{matrix}\n",
       "                    0&0.707\\\\0.707&0\n",
       "                \\end{matrix}\\right)\n",
       "                ,\n",
       "                \\sigma_y =                   \n",
       "                \\left(\\begin{matrix}\n",
       "                    0&-0.707\\mathrm{i}\\\\0.707\\mathrm{i}&0\n",
       "                \\end{matrix}\\right)\n",
       "                ,\n",
       "                \\sigma_z =                   \n",
       "                \\left(\\begin{matrix}\n",
       "                    0.707&0\\\\0&-0.707\n",
       "                \\end{matrix}\\right)\n",
       "                \n",
       "                \\end{equation}\n",
       "            </p>\n",
       "            "
      ],
      "text/plain": [
       "<TomographyBasis pauli_basis dims=[2] at 0x10d305d10>"
      ]
     },
     "execution_count": 10,
     "metadata": {},
     "output_type": "execute_result"
    }
   ],
   "source": [
    "basis = qi.tomography.pauli_basis(1)\n",
    "model = qi.BinomialModel(qi.tomography.TomographyModel(basis))\n",
    "prior = qi.tomography.GinibreDistribution(basis)\n",
    "basis"
   ]
  },
  {
   "cell_type": "markdown",
   "metadata": {},
   "source": [
    "Critically, our new basis is a basis of Hermitian operators, such that the representation of any other Hermitian operator is a real vector in this basis. If we attempt to expand a non-Hermitian operator, however, this basis will only represent the Hermitian part. For instance, the operator $U_{\\pi / 2, y} = \\frac{1}{\\sqrt{2}} (\\mathbb{1} - i \\sigma_y)$ defined above is not Hermitian due to the factor of $i$ in the coefficient of $\\sigma_y$. To wit, representing $U_{\\pi / 2, y}$ in our tomography basis keeps only the identity component: "
   ]
  },
  {
   "cell_type": "code",
   "execution_count": 11,
   "metadata": {
    "collapsed": false
   },
   "outputs": [
    {
     "data": {
      "text/plain": [
       "array([ 1.,  0.,  0.,  0.])"
      ]
     },
     "execution_count": 11,
     "metadata": {},
     "output_type": "execute_result"
    }
   ],
   "source": [
    "basis.state_to_modelparams(pi_y_2)"
   ]
  },
  {
   "cell_type": "markdown",
   "metadata": {},
   "source": [
    "This is wholly consistent, however, with the use of our tomography basis to represent Born's rule. That is, we are interested in the probability $\\Tr(E \\rho)$ of observing a measurement effect $E$ for the hypothetical state $\\rho$. In our case, $E$ is some rotation of a fixed *fiducial measurement*, which we take to be $E_0 = |0\\rangle \\langle0|$ by convention."
   ]
  },
  {
   "cell_type": "code",
   "execution_count": 12,
   "metadata": {
    "collapsed": false
   },
   "outputs": [
    {
     "data": {
      "text/latex": [
       "Quantum object: dims = [[2], [2]], shape = (2, 2), type = oper, isherm = True\\begin{equation*}\\left(\\begin{array}{*{11}c}1.000 & 0.0\\\\0.0 & 0.0\\\\\\end{array}\\right)\\end{equation*}"
      ],
      "text/plain": [
       "Quantum object: dims = [[2], [2]], shape = (2, 2), type = oper, isherm = True\n",
       "Qobj data =\n",
       "[[ 1.  0.]\n",
       " [ 0.  0.]]"
      ]
     },
     "execution_count": 12,
     "metadata": {},
     "output_type": "execute_result"
    }
   ],
   "source": [
    "fiducial_measurement = basis.modelparams_to_state(np.array([1,0,0,1])/np.sqrt(2))\n",
    "fiducial_measurement"
   ]
  },
  {
   "cell_type": "markdown",
   "metadata": {},
   "source": [
    "We can then define our measurements in terms of the unitary rotations $U$ which transform $E_0$ into each measurement effect. For later convienence in making plots, we also assign a name to each measurement. "
   ]
  },
  {
   "cell_type": "code",
   "execution_count": 13,
   "metadata": {
    "collapsed": false
   },
   "outputs": [],
   "source": [
    "single_measurement_list = [Id, pi_x, pi_x_2, pi_y_2]\n",
    "single_measurement_labels = [r'\\mathbb{1}', r'U_{\\pi, x}', r'U_{\\pi / 2, x}', r'U_{\\pi / 2, y}']"
   ]
  },
  {
   "cell_type": "markdown",
   "metadata": {},
   "source": [
    "With this in place, we can then convert each of the measurements defined above by unitary transformations into measurement effects expanded in our tomography basis. In particular, we let $E_i = U^\\dagger_i E_0 U_i$ for each unitary operator $U_i$."
   ]
  },
  {
   "cell_type": "code",
   "execution_count": 14,
   "metadata": {
    "collapsed": false
   },
   "outputs": [],
   "source": [
    "expparams = np.empty((len(single_measurement_list),), dtype=model.expparams_dtype)\n",
    "\n",
    "expparams['meas'] = [\n",
    "    basis.state_to_modelparams(act(op.dag(), fiducial_measurement))\n",
    "    for op in single_measurement_list\n",
    "]\n",
    "expparams['n_meas'] = 50"
   ]
  },
  {
   "cell_type": "code",
   "execution_count": 15,
   "metadata": {
    "collapsed": false
   },
   "outputs": [
    {
     "data": {
      "text/plain": [
       "array([[  0.00000000e+00,   0.00000000e+00,   1.00000000e+00],\n",
       "       [  0.00000000e+00,   0.00000000e+00,  -1.00000000e+00],\n",
       "       [  0.00000000e+00,   1.00000000e+00,   1.57009246e-16],\n",
       "       [ -1.00000000e+00,   0.00000000e+00,   1.57009246e-16]])"
      ]
     },
     "execution_count": 15,
     "metadata": {},
     "output_type": "execute_result"
    }
   ],
   "source": [
    "np.sqrt(2) * expparams['meas'][:, 1:]"
   ]
  },
  {
   "cell_type": "markdown",
   "metadata": {},
   "source": [
    "To performance test over this choice, we define a heuristic that cycles over each of the four allowed measurement operators above."
   ]
  },
  {
   "cell_type": "code",
   "execution_count": 16,
   "metadata": {
    "collapsed": true
   },
   "outputs": [],
   "source": [
    "def cycle_heuristic(expparams):\n",
    "    \n",
    "    def heuristic(updater):\n",
    "        return partial(next, it.cycle(expparams[:, np.newaxis]))\n",
    "    \n",
    "    return heuristic"
   ]
  },
  {
   "cell_type": "code",
   "execution_count": 15,
   "metadata": {
    "collapsed": false
   },
   "outputs": [
    {
     "name": "stderr",
     "output_type": "stream",
     "text": [
      "/Users/jcolless/anaconda/lib/python2.7/site-packages/qinfer/utils.py:268: ApproximationWarning: Numerical error in covariance estimation causing positive semidefinite violation.\n",
      "  warnings.warn('Numerical error in covariance estimation causing positive semidefinite violation.', ApproximationWarning)\n"
     ]
    }
   ],
   "source": [
    "perf = qi.perf_test_multiple(50,\n",
    "    model, 500, prior,\n",
    "    len(expparams), cycle_heuristic(expparams),\n",
    "    progressbar=qi.IPythonProgressBar\n",
    ")"
   ]
  },
  {
   "cell_type": "code",
   "execution_count": 16,
   "metadata": {
    "collapsed": false
   },
   "outputs": [
    {
     "data": {
      "text/plain": [
       "[<matplotlib.lines.Line2D at 0x113d63690>]"
      ]
     },
     "execution_count": 16,
     "metadata": {},
     "output_type": "execute_result"
    },
    {
     "data": {
      "image/png": "[encoded data removed]",
      "text/plain": [
       "<matplotlib.figure.Figure at 0x113d53b50>"
      ]
     },
     "metadata": {},
     "output_type": "display_data"
    }
   ],
   "source": [
    "plt.plot(np.median(perf['loss'], axis=0))\n",
    "plt.plot(np.mean(perf['loss'], axis=0))"
   ]
  },
  {
   "cell_type": "code",
   "execution_count": 17,
   "metadata": {
    "collapsed": false
   },
   "outputs": [],
   "source": [
    "GS_Single_Qubit_data = pickle.load(open(\"GS_Single_Qubit_data\",\"r\"))\n",
    "exp_data=GS_Single_Qubit_data[\"Measurements\"]"
   ]
  },
  {
   "cell_type": "code",
   "execution_count": 18,
   "metadata": {
    "collapsed": false
   },
   "outputs": [
    {
     "name": "stdout",
     "output_type": "stream",
     "text": [
      "(100, 32)\n"
     ]
    }
   ],
   "source": [
    "print(np.array(exp_data).shape)"
   ]
  },
  {
   "cell_type": "code",
   "execution_count": 19,
   "metadata": {
    "collapsed": false
   },
   "outputs": [
    {
     "name": "stdout",
     "output_type": "stream",
     "text": [
      "Quantum object: dims = [[2], [2]], shape = (2, 2), type = oper, isherm = True\n",
      "Qobj data =\n",
      "[[ 1.  0.]\n",
      " [ 0.  0.]]\n",
      "[[ 0.70710678  0.          0.          0.70710678]]\n"
     ]
    }
   ],
   "source": [
    "n_shots = 100\n",
    "number_of_batches = 1\n",
    "expparams['n_meas'] = n_shots // number_of_batches\n",
    "\n",
    "true_state = qt.Qobj([[1, 0],[0, 0]])\n",
    "\n",
    "true_mps = basis.state_to_modelparams(true_state)[np.newaxis, :]\n",
    "# exp_data=np.round(np.multiply(GS_2[0:32],expparams['n_meas'][0]*number_of_batches))\n",
    "\n",
    "print(true_state)\n",
    "print(true_mps)"
   ]
  },
  {
   "cell_type": "code",
   "execution_count": 20,
   "metadata": {
    "collapsed": true
   },
   "outputs": [],
   "source": [
    "ideal_data = [0] * 4\n",
    "\n",
    "for batch in range(number_of_batches):\n",
    "    i=0\n",
    "    for experiment in expparams[:, np.newaxis]:\n",
    "        datum = model.simulate_experiment(true_mps, experiment)\n",
    "        ideal_data[i]+=datum\n",
    "        i+=1"
   ]
  },
  {
   "cell_type": "code",
   "execution_count": 21,
   "metadata": {
    "collapsed": false
   },
   "outputs": [
    {
     "data": {
      "text/plain": [
       "([<matplotlib.axis.XTick at 0x11063c090>,\n",
       "  <matplotlib.axis.XTick at 0x11064f210>,\n",
       "  <matplotlib.axis.XTick at 0x100b01290>,\n",
       "  <matplotlib.axis.XTick at 0x1106afa10>],\n",
       " <a list of 4 Text xticklabel objects>)"
      ]
     },
     "execution_count": 21,
     "metadata": {},
     "output_type": "execute_result"
    },
    {
     "data": {
      "image/png": "[encoded data removed]",
      "text/plain": [
       "<matplotlib.figure.Figure at 0x10d30d210>"
      ]
     },
     "metadata": {},
     "output_type": "display_data"
    }
   ],
   "source": [
    "fixed_data=[0, 0, 0, 0 ]\n",
    "for i in range(100):\n",
    "    fixed_data += exp_data[i][0:4]\n",
    "\n",
    "plt.plot(fixed_data)\n",
    "plt.xticks(range(4), map(\"${}$\".format, single_measurement_labels), fontsize='x-large')"
   ]
  },
  {
   "cell_type": "code",
   "execution_count": 22,
   "metadata": {
    "collapsed": false
   },
   "outputs": [
    {
     "data": {
      "text/plain": [
       "([<matplotlib.axis.XTick at 0x110922f90>,\n",
       "  <matplotlib.axis.XTick at 0x1109dbf50>,\n",
       "  <matplotlib.axis.XTick at 0x110a295d0>,\n",
       "  <matplotlib.axis.XTick at 0x110a29c10>],\n",
       " <a list of 4 Text xticklabel objects>)"
      ]
     },
     "execution_count": 22,
     "metadata": {},
     "output_type": "execute_result"
    },
    {
     "data": {
      "image/png": "[encoded data removed]",
      "text/plain": [
       "<matplotlib.figure.Figure at 0x10d30d250>"
      ]
     },
     "metadata": {},
     "output_type": "display_data"
    }
   ],
   "source": [
    "plt.plot(fixed_data)\n",
    "plt.plot(np.divide(ideal_data, 1))\n",
    "\n",
    "plt.xticks(range(4), map(\"${}$\".format, single_measurement_labels), fontsize='x-large')"
   ]
  },
  {
   "cell_type": "code",
   "execution_count": 23,
   "metadata": {
    "collapsed": false
   },
   "outputs": [
    {
     "name": "stderr",
     "output_type": "stream",
     "text": [
      "/Users/jcolless/anaconda/lib/python2.7/site-packages/qinfer/utils.py:268: ApproximationWarning: Numerical error in covariance estimation causing positive semidefinite violation.\n",
      "  warnings.warn('Numerical error in covariance estimation causing positive semidefinite violation.', ApproximationWarning)\n"
     ]
    }
   ],
   "source": [
    "updater = qi.SMCUpdater(model, 10000, prior)\n",
    "\n",
    "# Pick out \"rows\" of the data corresponding to looping\n",
    "# over the four measurements defined above.\n",
    "for data_repetition, _ in zip(np.round(n_shots * np.array(exp_data)[:, :4] / number_of_batches), range(50)):\n",
    "    for experiment, datum in zip(expparams[:, np.newaxis], data_repetition):\n",
    "        updater.update(datum, experiment)\n",
    "        "
   ]
  },
  {
   "cell_type": "code",
   "execution_count": 24,
   "metadata": {
    "collapsed": false
   },
   "outputs": [],
   "source": [
    "rho_est = basis.modelparams_to_state(updater.est_mean())"
   ]
  },
  {
   "cell_type": "code",
   "execution_count": 25,
   "metadata": {
    "collapsed": false
   },
   "outputs": [
    {
     "data": {
      "text/plain": [
       "0.8611696376304074"
      ]
     },
     "execution_count": 25,
     "metadata": {},
     "output_type": "execute_result"
    }
   ],
   "source": [
    "(rho_est ** 2).tr()"
   ]
  },
  {
   "cell_type": "code",
   "execution_count": 26,
   "metadata": {
    "collapsed": false
   },
   "outputs": [
    {
     "data": {
      "text/latex": [
       "Quantum object: dims = [[2], [2]], shape = (2, 2), type = oper, isherm = True\\begin{equation*}\\left(\\begin{array}{*{11}c}0.918 & (-0.055-0.055j)\\\\(-0.055+0.055j) & 0.082\\\\\\end{array}\\right)\\end{equation*}"
      ],
      "text/plain": [
       "Quantum object: dims = [[2], [2]], shape = (2, 2), type = oper, isherm = True\n",
       "Qobj data =\n",
       "[[ 0.91776296+0.j         -0.05541753-0.05466105j]\n",
       " [-0.05541753+0.05466105j  0.08223704+0.j        ]]"
      ]
     },
     "execution_count": 26,
     "metadata": {},
     "output_type": "execute_result"
    }
   ],
   "source": [
    "rho_est"
   ]
  },
  {
   "cell_type": "code",
   "execution_count": 27,
   "metadata": {
    "collapsed": true
   },
   "outputs": [],
   "source": [
    "particle_purities = np.array([\n",
    "    (rho ** 2).tr()\n",
    "    for rho in basis.modelparams_to_state(updater.particle_locations)\n",
    "])"
   ]
  },
  {
   "cell_type": "code",
   "execution_count": 28,
   "metadata": {
    "collapsed": false
   },
   "outputs": [
    {
     "data": {
      "text/plain": [
       "<matplotlib.legend.Legend at 0x112390090>"
      ]
     },
     "execution_count": 28,
     "metadata": {},
     "output_type": "execute_result"
    },
    {
     "data": {
      "image/png": "[encoded data removed]",
      "text/plain": [
       "<matplotlib.figure.Figure at 0x110a76510>"
      ]
     },
     "metadata": {},
     "output_type": "display_data"
    }
   ],
   "source": [
    "plt.hist(particle_purities, weights=updater.particle_weights, bins=40)\n",
    "plt.xlabel(r'$\\operatorname{Tr}(\\rho^2)$')\n",
    "plt.ylabel(r'$\\Pr(\\rho^2 | \\mathsf{data})$')\n",
    "plt.xlim(xmax=1)\n",
    "\n",
    "ylim = plt.ylim()\n",
    "plt.vlines(np.mean(particle_purities), *ylim, label=r'$\\mathbb{E}[\\operatorname{Tr}(\\rho^2)]$')\n",
    "plt.vlines((rho_est ** 2).tr(), *ylim, linestyle='--', label=r'$\\operatorname{Tr}(\\mathbb{E}[\\rho]^2)$')\n",
    "plt.ylim(*ylim)\n",
    "plt.legend(ncol=2, bbox_to_anchor=(1, 1.15))"
   ]
  },
  {
   "cell_type": "code",
   "execution_count": 29,
   "metadata": {
    "collapsed": true
   },
   "outputs": [],
   "source": [
    "rho_x, rho_y, rho_z = np.sqrt(2) * updater.particle_locations.T[1:]\n",
    "rho_r = np.sqrt(rho_x ** 2 + rho_y ** 2 + rho_z ** 2)\n",
    "rho_theta = np.arccos(rho_z / rho_r)\n",
    "rho_phi = np.arctan2(rho_y, rho_x)"
   ]
  },
  {
   "cell_type": "code",
   "execution_count": 30,
   "metadata": {
    "collapsed": false
   },
   "outputs": [
    {
     "data": {
      "image/png": "[encoded data removed]",
      "text/plain": [
       "<matplotlib.figure.Figure at 0x112290910>"
      ]
     },
     "metadata": {},
     "output_type": "display_data"
    }
   ],
   "source": [
    "fig, axes = plt.subplots(ncols=2, nrows=2, figsize=(8, 8))\n",
    "\n",
    "plt.sca(axes[0][0])\n",
    "plt.scatter(rho_x, rho_y)\n",
    "plt.xlim(-1, 1)\n",
    "plt.ylim(-1, 1)\n",
    "plt.xlabel(r'$\\rho_x$')\n",
    "plt.ylabel(r'$\\rho_y$')\n",
    "plt.gca().set_aspect('equal')\n",
    "\n",
    "plt.sca(axes[0][1])\n",
    "plt.scatter(rho_z, rho_y)\n",
    "plt.xlim(-1, 1)\n",
    "plt.ylim(-1, 1)\n",
    "plt.gca().set_aspect('equal')\n",
    "\n",
    "plt.sca(axes[1][1])\n",
    "plt.scatter(rho_z, rho_x)\n",
    "plt.xlim(-1, 1)\n",
    "plt.ylim(-1, 1)\n",
    "plt.xlabel(r'$\\rho_z$')\n",
    "plt.ylabel(r'$\\rho_x$')\n",
    "plt.gca().set_aspect('equal')\n",
    "\n",
    "fig.delaxes(axes[1][0])"
   ]
  },
  {
   "cell_type": "code",
   "execution_count": 54,
   "metadata": {
    "collapsed": false
   },
   "outputs": [
    {
     "data": {
      "text/plain": [
       "(array([  5.42299992e-03,   2.69167626e-02,   9.95989185e-02,\n",
       "          2.38265774e-01,   2.79465314e-01,   2.23051226e-01,\n",
       "          1.00715510e-01,   2.31136247e-02,   3.29669544e-03,\n",
       "          1.53175053e-04]),\n",
       " array([ 0.02975121,  0.03593521,  0.04211921,  0.04830321,  0.0544872 ,\n",
       "         0.0606712 ,  0.0668552 ,  0.0730392 ,  0.0792232 ,  0.08540719,\n",
       "         0.09159119]),\n",
       " <a list of 10 Patch objects>)"
      ]
     },
     "execution_count": 54,
     "metadata": {},
     "output_type": "execute_result"
    },
    {
     "data": {
      "image/png": "[encoded data removed]",
      "text/plain": [
       "<matplotlib.figure.Figure at 0x11311edd0>"
      ]
     },
     "metadata": {},
     "output_type": "display_data"
    }
   ],
   "source": [
    "plt.hist(rho_theta / np.pi, weights=updater.particle_weights)"
   ]
  },
  {
   "cell_type": "code",
   "execution_count": 32,
   "metadata": {
    "collapsed": false
   },
   "outputs": [
    {
     "data": {
      "text/plain": [
       "(array([  5.38071969e-06,   7.70665776e-04,   2.93573954e-02,\n",
       "          2.42682377e-01,   4.72957196e-01,   2.27100470e-01,\n",
       "          2.63187553e-02,   7.99933628e-04,   7.77869385e-06,\n",
       "          4.74402217e-08]),\n",
       " array([ 0.5911659 ,  0.62714376,  0.66312162,  0.69909948,  0.73507734,\n",
       "         0.77105521,  0.80703307,  0.84301093,  0.87898879,  0.91496665,\n",
       "         0.95094451]),\n",
       " <a list of 10 Patch objects>)"
      ]
     },
     "execution_count": 32,
     "metadata": {},
     "output_type": "execute_result"
    },
    {
     "data": {
      "image/png": "[encoded data removed]",
      "text/plain": [
       "<matplotlib.figure.Figure at 0x110b48350>"
      ]
     },
     "metadata": {},
     "output_type": "display_data"
    }
   ],
   "source": [
    "plt.hist(rho_phi / np.pi, weights=updater.particle_weights)"
   ]
  },
  {
   "cell_type": "code",
   "execution_count": 33,
   "metadata": {
    "collapsed": false
   },
   "outputs": [
    {
     "data": {
      "text/plain": [
       "array([[[ 0.91776296,  0.08223704,  0.55466105,  0.55541753]]])"
      ]
     },
     "execution_count": 33,
     "metadata": {},
     "output_type": "execute_result"
    }
   ],
   "source": [
    "model.underlying_model.likelihood(1, updater.est_mean()[None, :], expparams)"
   ]
  },
  {
   "cell_type": "code",
   "execution_count": 34,
   "metadata": {
    "collapsed": false
   },
   "outputs": [
    {
     "data": {
      "text/latex": [
       "Quantum object: dims = [[2], [2]], shape = (2, 2), type = oper, isherm = True\\begin{equation*}\\left(\\begin{array}{*{11}c}1.0 & 0.0\\\\0.0 & 1.0\\\\\\end{array}\\right)\\end{equation*}"
      ],
      "text/plain": [
       "Quantum object: dims = [[2], [2]], shape = (2, 2), type = oper, isherm = True\n",
       "Qobj data =\n",
       "[[ 1.  0.]\n",
       " [ 0.  1.]]"
      ]
     },
     "execution_count": 34,
     "metadata": {},
     "output_type": "execute_result"
    }
   ],
   "source": [
    "single_measurement_list[0]"
   ]
  },
  {
   "cell_type": "code",
   "execution_count": 35,
   "metadata": {
    "collapsed": false
   },
   "outputs": [
    {
     "data": {
      "text/plain": [
       "<matplotlib.legend.Legend at 0x111ede150>"
      ]
     },
     "execution_count": 35,
     "metadata": {},
     "output_type": "execute_result"
    },
    {
     "data": {
      "image/png": "[encoded data removed]",
      "text/plain": [
       "<matplotlib.figure.Figure at 0x110bac290>"
      ]
     },
     "metadata": {},
     "output_type": "display_data"
    }
   ],
   "source": [
    "plt.plot(fixed_data / 100, label='Exp. Data')\n",
    "plt.plot(model.underlying_model.likelihood(1, updater.est_mean()[None, :], expparams)[0, 0, :], label='Reconstructed f/ Est.')\n",
    "\n",
    "plt.xticks(range(4), map(\"${}$\".format, single_measurement_labels), fontsize='x-large')\n",
    "plt.legend()"
   ]
  },
  {
   "cell_type": "markdown",
   "metadata": {},
   "source": [
    "# Two-Qubit Tests"
   ]
  },
  {
   "cell_type": "code",
   "execution_count": 36,
   "metadata": {
    "collapsed": false
   },
   "outputs": [],
   "source": [
    "basis = qi.tomography.pauli_basis(2)\n",
    "model = qi.BinomialModel(qi.tomography.TomographyModel(basis))\n",
    "fid_prior = qi.tomography.GinibreDistribution(basis, rank=2)\n",
    "# prior = qi.tomography.GADFLIDistribution(\n",
    "#     fid_prior,\n",
    "#     mean=fiducial_state\n",
    "# )\n",
    "prior = fid_prior"
   ]
  },
  {
   "cell_type": "code",
   "execution_count": 37,
   "metadata": {
    "collapsed": false
   },
   "outputs": [
    {
     "data": {
      "text/latex": [
       "Quantum object: dims = [[2, 2], [2, 2]], shape = (4, 4), type = oper, isherm = True\\begin{equation*}\\left(\\begin{array}{*{11}c}1.000 & 0.0 & 0.0 & 0.0\\\\0.0 & 0.0 & 0.0 & 0.0\\\\0.0 & 0.0 & 0.0 & 0.0\\\\0.0 & 0.0 & 0.0 & 0.0\\\\\\end{array}\\right)\\end{equation*}"
      ],
      "text/plain": [
       "Quantum object: dims = [[2, 2], [2, 2]], shape = (4, 4), type = oper, isherm = True\n",
       "Qobj data =\n",
       "[[ 1.  0.  0.  0.]\n",
       " [ 0.  0.  0.  0.]\n",
       " [ 0.  0.  0.  0.]\n",
       " [ 0.  0.  0.  0.]]"
      ]
     },
     "execution_count": 37,
     "metadata": {},
     "output_type": "execute_result"
    }
   ],
   "source": [
    "fiducial_measurement = basis.modelparams_to_state(np.array([1,0,0,1,0,0,0,0,0,0,0,0,1,0,0,1])/np.sqrt(4))\n",
    "fiducial_measurement"
   ]
  },
  {
   "cell_type": "code",
   "execution_count": 138,
   "metadata": {
    "collapsed": false
   },
   "outputs": [
    {
     "data": {
      "text/latex": [
       "Quantum object: dims = [[2, 2], [2, 2]], shape = (4, 4), type = oper, isherm = True\\begin{equation*}\\left(\\begin{array}{*{11}c}0.990 & 0.0 & 0.0 & 0.0\\\\0.0 & 0.070 & 0.0 & 0.0\\\\0.0 & 0.0 & 0.100 & 0.0\\\\0.0 & 0.0 & 0.0 & 0.006\\\\\\end{array}\\right)\\end{equation*}"
      ],
      "text/plain": [
       "Quantum object: dims = [[2, 2], [2, 2]], shape = (4, 4), type = oper, isherm = True\n",
       "Qobj data =\n",
       "[[ 0.99033414  0.          0.          0.        ]\n",
       " [ 0.          0.07023314  0.          0.        ]\n",
       " [ 0.          0.          0.10012892  0.        ]\n",
       " [ 0.          0.          0.          0.00576184]]"
      ]
     },
     "execution_count": 138,
     "metadata": {},
     "output_type": "execute_result"
    }
   ],
   "source": [
    "FullMeasurementList=[]\n",
    "single_measurement_list = [Id, pi_x, pi_x_2, pi_y_2]\n",
    "single_measurement_labels = [r'\\mathbb{1}', r'U_{\\pi, x}', r'U_{\\pi / 2, x}', r'U_{\\pi / 2, y}']\n",
    "\n",
    "for item1 in single_measurement_list:\n",
    "    for item2 in single_measurement_list:\n",
    "        FullMeasurementList.append(qt.tensor(item1,item2))\n",
    "\n",
    "for item1 in single_measurement_list:\n",
    "    for item2 in single_measurement_list:\n",
    "        FullMeasurementList.append((qt.tensor(item1,item2)).conj())\n",
    "\n",
    "beta_vec = np.load(\"GS_cal_betas.npy\",\"r\")  \n",
    "# beta_vec=[0.25,.25,.25,.25]\n",
    "fiducial_measurement = (beta_vec[0]*qt.tensor(Id, Id) + beta_vec[1]*qt.tensor(Z, Id) + beta_vec[2]*qt.tensor(Id,Z) + beta_vec[3]*qt.tensor(Z,Z))\n",
    "fiducial_measurement"
   ]
  },
  {
   "cell_type": "code",
   "execution_count": 99,
   "metadata": {
    "collapsed": false
   },
   "outputs": [],
   "source": [
    "expparams = np.empty((len(FullMeasurementList),), dtype=model.expparams_dtype)\n",
    "\n",
    "expparams['meas'] = [\n",
    "    basis.state_to_modelparams(act(op.dag(), fiducial_measurement))\n",
    "    for op in FullMeasurementList\n",
    "]\n",
    "expparams['n_meas']= 50"
   ]
  },
  {
   "cell_type": "code",
   "execution_count": 40,
   "metadata": {
    "collapsed": false,
    "scrolled": false
   },
   "outputs": [],
   "source": [
    "perf = qi.perf_test_multiple(50,\n",
    "    model, 2000, prior,\n",
    "    len(expparams), cycle_heuristic(expparams),\n",
    "    progressbar=qi.IPythonProgressBar\n",
    ")"
   ]
  },
  {
   "cell_type": "code",
   "execution_count": 41,
   "metadata": {
    "collapsed": false
   },
   "outputs": [
    {
     "data": {
      "text/plain": [
       "[<matplotlib.lines.Line2D at 0x11233cbd0>]"
      ]
     },
     "execution_count": 41,
     "metadata": {},
     "output_type": "execute_result"
    },
    {
     "data": {
      "image/png": "[encoded data removed]",
      "text/plain": [
       "<matplotlib.figure.Figure at 0x100dea5d0>"
      ]
     },
     "metadata": {},
     "output_type": "display_data"
    }
   ],
   "source": [
    "plt.plot(np.median(perf['loss'], axis=0))\n",
    "plt.plot(np.mean(perf['loss'], axis=0))"
   ]
  },
  {
   "cell_type": "code",
   "execution_count": 141,
   "metadata": {
    "collapsed": false
   },
   "outputs": [],
   "source": [
    "GS_Two_Qubit_data = np.load(\"GS.npy\",\"r\")\n",
    "# exp_data=GS_Two_Qubit_data[\"Measurements\"]"
   ]
  },
  {
   "cell_type": "code",
   "execution_count": 144,
   "metadata": {
    "collapsed": false
   },
   "outputs": [
    {
     "data": {
      "text/latex": [
       "Quantum object: dims = [[4], [4]], shape = (4, 4), type = oper, isherm = True\\begin{equation*}\\left(\\begin{array}{*{11}c}1.0 & 0.0 & 0.0 & 0.0\\\\0.0 & 0.0 & 0.0 & 0.0\\\\0.0 & 0.0 & 0.0 & 0.0\\\\0.0 & 0.0 & 0.0 & 0.0\\\\\\end{array}\\right)\\end{equation*}"
      ],
      "text/plain": [
       "Quantum object: dims = [[4], [4]], shape = (4, 4), type = oper, isherm = True\n",
       "Qobj data =\n",
       "[[ 1.  0.  0.  0.]\n",
       " [ 0.  0.  0.  0.]\n",
       " [ 0.  0.  0.  0.]\n",
       " [ 0.  0.  0.  0.]]"
      ]
     },
     "execution_count": 144,
     "metadata": {},
     "output_type": "execute_result"
    }
   ],
   "source": [
    "n_shots = 1000\n",
    "number_of_batches = 1000\n",
    "expparams['n_meas'] = n_shots // number_of_batches\n",
    "\n",
    "true_state = qt.Qobj([[1, 0, 0, 0],[0, 0, 0, 0],[0, 0, 0, 0],[0, 0, 0, 0]])\n",
    "\n",
    "true_mps = basis.state_to_modelparams(true_state)[np.newaxis, :]\n",
    "# exp_data=np.round(np.multiply(GS_2[0:32],expparams['n_meas'][0]*number_of_batches))\n",
    "\n",
    "true_state"
   ]
  },
  {
   "cell_type": "code",
   "execution_count": 137,
   "metadata": {
    "collapsed": false
   },
   "outputs": [
    {
     "name": "stdout",
     "output_type": "stream",
     "text": [
      "(100, 32)\n",
      "(100, 32)\n",
      "(32,)\n",
      "[ 0.99052003  0.09727439  0.52586172  0.52926123  0.07074867  0.00591315\n",
      "  0.0329489   0.0395867   0.55252029  0.06231337  0.30390637  0.2930666\n",
      "  0.55598727  0.0561174   0.29979088  0.28883762  0.99143358  0.11358204\n",
      "  0.53787663  0.55281351  0.08080395  0.00646357  0.04653325  0.03603298\n",
      "  0.55571186  0.05175505  0.30473486  0.27731067  0.54088354  0.05283148\n",
      "  0.26516751  0.29567854]\n"
     ]
    }
   ],
   "source": [
    "print(np.array(exp_data).shape)\n",
    "print(np.array((E1_Two_Qubit_data.tolist()*100)).reshape(100,32).shape)\n",
    "print(np.array(E1_Two_Qubit_data).shape)\n",
    "\n",
    "new_data=np.array((GS_Two_Qubit_data.tolist()*100)).reshape(100,32)\n",
    "print(new_data[0])"
   ]
  },
  {
   "cell_type": "code",
   "execution_count": 145,
   "metadata": {
    "collapsed": false
   },
   "outputs": [
    {
     "data": {
      "text/plain": [
       "[<matplotlib.lines.Line2D at 0x1142bb390>]"
      ]
     },
     "execution_count": 145,
     "metadata": {},
     "output_type": "execute_result"
    },
    {
     "data": {
      "image/png": "[encoded data removed]",
      "text/plain": [
       "<matplotlib.figure.Figure at 0x1142bb350>"
      ]
     },
     "metadata": {},
     "output_type": "display_data"
    }
   ],
   "source": [
    "ideal_data = [0] * 32\n",
    "\n",
    "for batch in range(number_of_batches):\n",
    "    i=0\n",
    "    for experiment in expparams[:, np.newaxis]:\n",
    "        datum = model.simulate_experiment(true_mps, experiment)\n",
    "        ideal_data[i]+=datum\n",
    "        i+=1\n",
    "\n",
    "\n",
    "plt.plot(np.divide(ideal_data,1000.))\n",
    "plt.plot(GS_Two_Qubit_data)\n",
    "# plt.xticks(range(4), map(\"${}$\".format, single_measurement_labels), fontsize='x-large')"
   ]
  },
  {
   "cell_type": "code",
   "execution_count": 152,
   "metadata": {
    "collapsed": false
   },
   "outputs": [],
   "source": [
    "updater = qi.SMCUpdater(model, 5000, prior)\n",
    "\n",
    "# Pick out \"rows\" of the data corresponding to looping\n",
    "# over the four measurements defined above.\n",
    "for data_repetition in np.round(n_shots * np.array(new_data) / number_of_batches):\n",
    "    for experiment, datum in zip(expparams[:, np.newaxis], data_repetition):\n",
    "        updater.update(datum, experiment)"
   ]
  },
  {
   "cell_type": "code",
   "execution_count": 153,
   "metadata": {
    "collapsed": true
   },
   "outputs": [],
   "source": [
    "rho_est = basis.modelparams_to_state(updater.est_mean())"
   ]
  },
  {
   "cell_type": "code",
   "execution_count": 154,
   "metadata": {
    "collapsed": false
   },
   "outputs": [
    {
     "data": {
      "text/latex": [
       "Quantum object: dims = [[2, 2], [2, 2]], shape = (4, 4), type = oper, isherm = True\\begin{equation*}\\left(\\begin{array}{*{11}c}0.934 & (0.012-0.147j) & (-0.059-0.055j) & (-0.020-0.159j)\\\\(0.012+0.147j) & 0.027 & (0.008-0.011j) & (0.024-0.005j)\\\\(-0.059+0.055j) & (0.008+0.011j) & 0.010 & (0.010+0.009j)\\\\(-0.020+0.159j) & (0.024+0.005j) & (0.010-0.009j) & 0.030\\\\\\end{array}\\right)\\end{equation*}"
      ],
      "text/plain": [
       "Quantum object: dims = [[2, 2], [2, 2]], shape = (4, 4), type = oper, isherm = True\n",
       "Qobj data =\n",
       "[[ 0.93353487+0.j          0.01189607-0.14714816j -0.05922075-0.05510404j\n",
       "  -0.01985598-0.1586937j ]\n",
       " [ 0.01189607+0.14714816j  0.02733045+0.j          0.00797157-0.01085906j\n",
       "   0.02418450-0.00548054j]\n",
       " [-0.05922075+0.05510404j  0.00797157+0.01085906j  0.00958082+0.j\n",
       "   0.01005178+0.0087289j ]\n",
       " [-0.01985598+0.1586937j   0.02418450+0.00548054j  0.01005178-0.0087289j\n",
       "   0.02955386+0.j        ]]"
      ]
     },
     "execution_count": 154,
     "metadata": {},
     "output_type": "execute_result"
    }
   ],
   "source": [
    "rho_est\n",
    "# print((rho_est ** 2).tr())"
   ]
  },
  {
   "cell_type": "code",
   "execution_count": 90,
   "metadata": {
    "collapsed": true
   },
   "outputs": [],
   "source": [
    "particle_purities = np.array([\n",
    "    (rho ** 2).tr()\n",
    "    for rho in basis.modelparams_to_state(updater.particle_locations)\n",
    "])"
   ]
  },
  {
   "cell_type": "code",
   "execution_count": 91,
   "metadata": {
    "collapsed": false
   },
   "outputs": [
    {
     "data": {
      "text/plain": [
       "<matplotlib.legend.Legend at 0x118da9f50>"
      ]
     },
     "execution_count": 91,
     "metadata": {},
     "output_type": "execute_result"
    },
    {
     "data": {
      "image/png": "[encoded data removed]",
      "text/plain": [
       "<matplotlib.figure.Figure at 0x1136b0710>"
      ]
     },
     "metadata": {},
     "output_type": "display_data"
    }
   ],
   "source": [
    "plt.hist(particle_purities, weights=updater.particle_weights, bins=40)\n",
    "plt.xlabel(r'$\\operatorname{Tr}(\\rho^2)$')\n",
    "plt.ylabel(r'$\\Pr(\\rho^2 | \\mathsf{data})$')\n",
    "plt.xlim(xmax=1)\n",
    "\n",
    "ylim = plt.ylim()\n",
    "plt.vlines(np.mean(particle_purities), *ylim, label=r'$\\mathbb{E}[\\operatorname{Tr}(\\rho^2)]$')\n",
    "plt.vlines((rho_est ** 2).tr(), *ylim, linestyle='--', label=r'$\\operatorname{Tr}(\\mathbb{E}[\\rho]^2)$')\n",
    "plt.ylim(*ylim)\n",
    "plt.legend(ncol=2, bbox_to_anchor=(1, 1.15))"
   ]
  },
  {
   "cell_type": "code",
   "execution_count": 67,
   "metadata": {
    "collapsed": false
   },
   "outputs": [
    {
     "data": {
      "text/latex": [
       "Quantum object: dims = [[[2, 2], [2, 2]], [[2, 2], [2, 2]]], shape = (16, 16), type = super, isherm = True, superrep = choi\\begin{equation*}\\left(\\begin{array}{*{11}c}8.786\\times10^{-06} & (5.324\\times10^{-07}-3.918\\times10^{-06}j) & (3.960\\times10^{-06}+2.327\\times10^{-06}j) & (-2.583\\times10^{-07}-1.279\\times10^{-05}j) & (5.324\\times10^{-07}+3.918\\times10^{-06}j) & \\cdots & (5.957\\times10^{-05}-5.728\\times10^{-05}j) & (-2.583\\times10^{-07}+1.279\\times10^{-05}j) & (1.126\\times10^{-05}-1.836\\times10^{-05}j) & (5.957\\times10^{-05}+5.728\\times10^{-05}j) & 3.182\\times10^{-04}\\\\(5.324\\times10^{-07}+3.918\\times10^{-06}j) & -8.079\\times10^{-06} & (4.468\\times10^{-06}-4.018\\times10^{-06}j) & (6.184\\times10^{-07}+2.847\\times10^{-06}j) & (-2.336\\times10^{-05}+6.207\\times10^{-06}j) & \\cdots & (1.405\\times10^{-05}+9.005\\times10^{-06}j) & (-4.315\\times10^{-05}+2.573\\times10^{-05}j) & (4.780\\times10^{-06}-8.053\\times10^{-06}j) & (4.536\\times10^{-05}+3.664\\times10^{-05}j) & (3.329\\times10^{-05}+1.236\\times10^{-05}j)\\\\(3.960\\times10^{-06}-2.327\\times10^{-06}j) & (4.468\\times10^{-06}+4.018\\times10^{-06}j) & -2.945\\times10^{-06} & (-2.221\\times10^{-07}+4.029\\times10^{-07}j) & (-3.140\\times10^{-05}+1.912\\times10^{-05}j) & \\cdots & (3.336\\times10^{-08}+1.686\\times10^{-06}j) & (5.961\\times10^{-05}+7.680\\times10^{-06}j) & (-7.897\\times10^{-06}+3.495\\times10^{-05}j) & (8.414\\times10^{-06}-8.977\\times10^{-06}j) & (2.108\\times10^{-05}+5.142\\times10^{-06}j)\\\\(-2.583\\times10^{-07}+1.279\\times10^{-05}j) & (6.184\\times10^{-07}-2.847\\times10^{-06}j) & (-2.221\\times10^{-07}-4.029\\times10^{-07}j) & 2.238\\times10^{-06} & (-4.315\\times10^{-05}+2.573\\times10^{-05}j) & \\cdots & (-2.661\\times10^{-06}+3.734\\times10^{-06}j) & (9.628\\times10^{-05}+9.801\\times10^{-05}j) & (5.034\\times10^{-05}+2.677\\times10^{-05}j) & (1.819\\times10^{-05}-1.101\\times10^{-05}j) & (-1.293\\times10^{-05}+4.238\\times10^{-06}j)\\\\(5.324\\times10^{-07}-3.918\\times10^{-06}j) & (-2.336\\times10^{-05}-6.207\\times10^{-06}j) & (-3.140\\times10^{-05}-1.912\\times10^{-05}j) & (-4.315\\times10^{-05}-2.573\\times10^{-05}j) & -8.079\\times10^{-06} & \\cdots & (4.536\\times10^{-05}-3.664\\times10^{-05}j) & (6.184\\times10^{-07}-2.847\\times10^{-06}j) & (4.567\\times10^{-06}-1.626\\times10^{-05}j) & (1.405\\times10^{-05}-9.005\\times10^{-06}j) & (3.329\\times10^{-05}-1.236\\times10^{-05}j)\\\\\\vdots & \\vdots & \\vdots & \\vdots & \\vdots & \\ddots & \\vdots & \\vdots & \\vdots & \\vdots & \\vdots\\\\(5.957\\times10^{-05}+5.728\\times10^{-05}j) & (1.405\\times10^{-05}-9.005\\times10^{-06}j) & (3.336\\times10^{-08}-1.686\\times10^{-06}j) & (-2.661\\times10^{-06}-3.734\\times10^{-06}j) & (4.536\\times10^{-05}+3.664\\times10^{-05}j) & \\cdots & -2.779\\times10^{-06} & (1.819\\times10^{-05}-1.101\\times10^{-05}j) & (7.926\\times10^{-06}-4.149\\times10^{-07}j) & (2.938\\times10^{-06}-3.928\\times10^{-06}j) & (-3.048\\times10^{-06}+2.576\\times10^{-07}j)\\\\(-2.583\\times10^{-07}-1.279\\times10^{-05}j) & (-4.315\\times10^{-05}-2.573\\times10^{-05}j) & (5.961\\times10^{-05}-7.680\\times10^{-06}j) & (9.628\\times10^{-05}-9.801\\times10^{-05}j) & (6.184\\times10^{-07}+2.847\\times10^{-06}j) & \\cdots & (1.819\\times10^{-05}+1.101\\times10^{-05}j) & 2.238\\times10^{-06} & (3.290\\times10^{-06}+1.207\\times10^{-06}j) & (-2.661\\times10^{-06}-3.734\\times10^{-06}j) & (-1.293\\times10^{-05}-4.238\\times10^{-06}j)\\\\(1.126\\times10^{-05}+1.836\\times10^{-05}j) & (4.780\\times10^{-06}+8.053\\times10^{-06}j) & (-7.897\\times10^{-06}-3.495\\times10^{-05}j) & (5.034\\times10^{-05}-2.677\\times10^{-05}j) & (4.567\\times10^{-06}+1.626\\times10^{-05}j) & \\cdots & (7.926\\times10^{-06}+4.149\\times10^{-07}j) & (3.290\\times10^{-06}-1.207\\times10^{-06}j) & -3.216\\times10^{-06} & (3.532\\times10^{-06}-5.045\\times10^{-06}j) & (-2.831\\times10^{-06}+2.417\\times10^{-06}j)\\\\(5.957\\times10^{-05}-5.728\\times10^{-05}j) & (4.536\\times10^{-05}-3.664\\times10^{-05}j) & (8.414\\times10^{-06}+8.977\\times10^{-06}j) & (1.819\\times10^{-05}+1.101\\times10^{-05}j) & (1.405\\times10^{-05}+9.005\\times10^{-06}j) & \\cdots & (2.938\\times10^{-06}+3.928\\times10^{-06}j) & (-2.661\\times10^{-06}+3.734\\times10^{-06}j) & (3.532\\times10^{-06}+5.045\\times10^{-06}j) & -2.779\\times10^{-06} & (-3.048\\times10^{-06}-2.576\\times10^{-07}j)\\\\3.182\\times10^{-04} & (3.329\\times10^{-05}-1.236\\times10^{-05}j) & (2.108\\times10^{-05}-5.142\\times10^{-06}j) & (-1.293\\times10^{-05}-4.238\\times10^{-06}j) & (3.329\\times10^{-05}+1.236\\times10^{-05}j) & \\cdots & (-3.048\\times10^{-06}-2.576\\times10^{-07}j) & (-1.293\\times10^{-05}+4.238\\times10^{-06}j) & (-2.831\\times10^{-06}-2.417\\times10^{-06}j) & (-3.048\\times10^{-06}+2.576\\times10^{-07}j) & 3.756\\times10^{-06}\\\\\\end{array}\\right)\\end{equation*}"
      ],
      "text/plain": [
       "Quantum object: dims = [[[2, 2], [2, 2]], [[2, 2], [2, 2]]], shape = (16, 16), type = super, isherm = True, superrep = choi\n",
       "Qobj data =\n",
       "[[  8.78562749e-06 +0.00000000e+00j   5.32396222e-07 -3.91847572e-06j\n",
       "    3.96024306e-06 +2.32705353e-06j  -2.58288167e-07 -1.27921711e-05j\n",
       "    5.32396222e-07 +3.91847572e-06j   7.99461068e-05 -1.39760436e-20j\n",
       "    7.50139479e-06 -1.15744862e-05j   1.12599053e-05 +1.83589935e-05j\n",
       "    3.96024306e-06 -2.32705353e-06j   7.50139479e-06 +1.15744862e-05j\n",
       "    1.11572978e-04 +0.00000000e+00j   5.95718051e-05 -5.72821196e-05j\n",
       "   -2.58288167e-07 +1.27921711e-05j   1.12599053e-05 -1.83589935e-05j\n",
       "    5.95718051e-05 +5.72821196e-05j   3.18242571e-04 +0.00000000e+00j]\n",
       " [  5.32396222e-07 +3.91847572e-06j  -8.07891983e-06 +0.00000000e+00j\n",
       "    4.46765575e-06 -4.01838326e-06j   6.18446557e-07 +2.84722990e-06j\n",
       "   -2.33604795e-05 +6.20695399e-06j   1.27804536e-06 +3.88847959e-06j\n",
       "    1.62688529e-05 +2.34537987e-06j   4.56731884e-06 +1.62579531e-05j\n",
       "   -3.13954983e-05 +1.91209284e-05j  -3.02316880e-06 +2.22472947e-06j\n",
       "    3.14870352e-05 -1.63738241e-05j   1.40490697e-05 +9.00525227e-06j\n",
       "   -4.31520522e-05 +2.57314975e-05j   4.77958465e-06 -8.05297234e-06j\n",
       "    4.53630101e-05 +3.66413954e-05j   3.32932140e-05 +1.23608885e-05j]\n",
       " [  3.96024306e-06 -2.32705353e-06j   4.46765575e-06 +4.01838326e-06j\n",
       "   -2.94473343e-06 +0.00000000e+00j  -2.22100313e-07 +4.02861817e-07j\n",
       "   -3.13954983e-05 +1.91209284e-05j  -1.04654921e-05 -1.95875674e-05j\n",
       "   -5.10078598e-06 -6.59964857e-06j  -8.35901919e-06 +1.48162511e-06j\n",
       "   -2.95993460e-05 -3.29643048e-05j   9.33016011e-07 +5.51394050e-06j\n",
       "    1.72364680e-06 -3.63208003e-06j   3.33599845e-08 +1.68556866e-06j\n",
       "    5.96112457e-05 +7.67996743e-06j  -7.89677263e-06 +3.49514125e-05j\n",
       "    8.41355176e-06 -8.97744275e-06j   2.10788983e-05 +5.14227451e-06j]\n",
       " [ -2.58288167e-07 +1.27921711e-05j   6.18446557e-07 -2.84722990e-06j\n",
       "   -2.22100313e-07 -4.02861817e-07j   2.23802577e-06 +0.00000000e+00j\n",
       "   -4.31520522e-05 +2.57314975e-05j  -5.24734318e-06 +1.43367519e-05j\n",
       "   -1.22953724e-06 +3.51373732e-06j   3.29034440e-06 -1.20730674e-06j\n",
       "    5.96112457e-05 +7.67996743e-06j   1.03618107e-05 +4.07512485e-06j\n",
       "    1.02669398e-05 -1.99749237e-06j  -2.66072105e-06 +3.73440410e-06j\n",
       "    9.62824387e-05 +9.80120286e-05j   5.03441939e-05 +2.67670987e-05j\n",
       "    1.81903026e-05 -1.10056750e-05j  -1.29348482e-05 +4.23824402e-06j]\n",
       " [  5.32396222e-07 -3.91847572e-06j  -2.33604795e-05 -6.20695399e-06j\n",
       "   -3.13954983e-05 -1.91209284e-05j  -4.31520522e-05 -2.57314975e-05j\n",
       "   -8.07891983e-06 +0.00000000e+00j   1.27804536e-06 -3.88847959e-06j\n",
       "   -3.02316880e-06 -2.22472947e-06j   4.77958465e-06 +8.05297234e-06j\n",
       "    4.46765575e-06 +4.01838326e-06j   1.62688529e-05 -2.34537987e-06j\n",
       "    3.14870352e-05 +1.63738241e-05j   4.53630101e-05 -3.66413954e-05j\n",
       "    6.18446557e-07 -2.84722990e-06j   4.56731884e-06 -1.62579531e-05j\n",
       "    1.40490697e-05 -9.00525227e-06j   3.32932140e-05 -1.23608885e-05j]\n",
       " [  7.99461068e-05 +1.39760436e-20j   1.27804536e-06 -3.88847959e-06j\n",
       "   -1.04654921e-05 +1.95875674e-05j  -5.24734318e-06 -1.43367519e-05j\n",
       "    1.27804536e-06 +3.88847959e-06j   1.18589477e-05 +0.00000000e+00j\n",
       "   -5.84761281e-06 +2.56442076e-06j   1.80019696e-06 -4.21792364e-06j\n",
       "   -1.04654921e-05 -1.95875674e-05j  -5.84761281e-06 -2.56442076e-06j\n",
       "    7.98755357e-05 -4.23516474e-21j   1.08311915e-06 +1.12073081e-05j\n",
       "   -5.24734318e-06 +1.43367519e-05j   1.80019696e-06 +4.21792364e-06j\n",
       "    1.08311915e-06 -1.12073081e-05j   2.11654354e-05 +8.47032947e-22j]\n",
       " [  7.50139479e-06 +1.15744862e-05j   1.62688529e-05 -2.34537987e-06j\n",
       "   -5.10078598e-06 +6.59964857e-06j  -1.22953724e-06 -3.51373732e-06j\n",
       "   -3.02316880e-06 +2.22472947e-06j  -5.84761281e-06 -2.56442076e-06j\n",
       "   -5.64091605e-07 +0.00000000e+00j  -1.94982925e-07 -1.66277075e-07j\n",
       "    9.33016011e-07 +5.51394050e-06j  -2.26299750e-05 +9.65808556e-06j\n",
       "   -2.15188812e-06 -6.49850036e-06j  -1.02897977e-05 -3.77146472e-06j\n",
       "    1.03618107e-05 +4.07512485e-06j   2.29013279e-06 -3.23231234e-06j\n",
       "    4.12504824e-07 +1.04624187e-06j   3.80711335e-06 +5.54385643e-06j]\n",
       " [  1.12599053e-05 -1.83589935e-05j   4.56731884e-06 -1.62579531e-05j\n",
       "   -8.35901919e-06 -1.48162511e-06j   3.29034440e-06 +1.20730674e-06j\n",
       "    4.77958465e-06 -8.05297234e-06j   1.80019696e-06 +4.21792364e-06j\n",
       "   -1.94982925e-07 +1.66277075e-07j  -3.21593625e-06 +0.00000000e+00j\n",
       "   -7.89677263e-06 +3.49514125e-05j   2.29013279e-06 -3.23231234e-06j\n",
       "    3.18914089e-06 +2.93672026e-07j   3.53184517e-06 +5.04453786e-06j\n",
       "    5.03441939e-05 +2.67670987e-05j   1.05099143e-05 +5.35170761e-06j\n",
       "    7.92635912e-06 -4.14850439e-07j  -2.83114834e-06 -2.41693561e-06j]\n",
       " [  3.96024306e-06 +2.32705353e-06j  -3.13954983e-05 -1.91209284e-05j\n",
       "   -2.95993460e-05 +3.29643048e-05j   5.96112457e-05 -7.67996743e-06j\n",
       "    4.46765575e-06 -4.01838326e-06j  -1.04654921e-05 +1.95875674e-05j\n",
       "    9.33016011e-07 -5.51394050e-06j  -7.89677263e-06 -3.49514125e-05j\n",
       "   -2.94473343e-06 +0.00000000e+00j  -5.10078598e-06 +6.59964857e-06j\n",
       "    1.72364680e-06 +3.63208003e-06j   8.41355176e-06 +8.97744275e-06j\n",
       "   -2.22100313e-07 -4.02861817e-07j  -8.35901919e-06 -1.48162511e-06j\n",
       "    3.33599845e-08 -1.68556866e-06j   2.10788983e-05 -5.14227451e-06j]\n",
       " [  7.50139479e-06 -1.15744862e-05j  -3.02316880e-06 -2.22472947e-06j\n",
       "    9.33016011e-07 -5.51394050e-06j   1.03618107e-05 -4.07512485e-06j\n",
       "    1.62688529e-05 +2.34537987e-06j  -5.84761281e-06 +2.56442076e-06j\n",
       "   -2.26299750e-05 -9.65808556e-06j   2.29013279e-06 +3.23231234e-06j\n",
       "   -5.10078598e-06 -6.59964857e-06j  -5.64091605e-07 +0.00000000e+00j\n",
       "   -2.15188812e-06 +6.49850036e-06j   4.12504824e-07 -1.04624187e-06j\n",
       "   -1.22953724e-06 +3.51373732e-06j  -1.94982925e-07 +1.66277075e-07j\n",
       "   -1.02897977e-05 +3.77146472e-06j   3.80711335e-06 -5.54385643e-06j]\n",
       " [  1.11572978e-04 +0.00000000e+00j   3.14870352e-05 +1.63738241e-05j\n",
       "    1.72364680e-06 +3.63208003e-06j   1.02669398e-05 +1.99749237e-06j\n",
       "    3.14870352e-05 -1.63738241e-05j   7.98755357e-05 +4.23516474e-21j\n",
       "   -2.15188812e-06 +6.49850036e-06j   3.18914089e-06 -2.93672026e-07j\n",
       "    1.72364680e-06 -3.63208003e-06j  -2.15188812e-06 -6.49850036e-06j\n",
       "    6.28736786e-06 +0.00000000e+00j   3.46467676e-06 +2.10631652e-08j\n",
       "    1.02669398e-05 -1.99749237e-06j   3.18914089e-06 +2.93672026e-07j\n",
       "    3.46467676e-06 -2.10631652e-08j   1.07581974e-05 -1.35525272e-20j]\n",
       " [  5.95718051e-05 +5.72821196e-05j   1.40490697e-05 -9.00525227e-06j\n",
       "    3.33599845e-08 -1.68556866e-06j  -2.66072105e-06 -3.73440410e-06j\n",
       "    4.53630101e-05 +3.66413954e-05j   1.08311915e-06 -1.12073081e-05j\n",
       "   -1.02897977e-05 +3.77146472e-06j   3.53184517e-06 -5.04453786e-06j\n",
       "    8.41355176e-06 -8.97744275e-06j   4.12504824e-07 +1.04624187e-06j\n",
       "    3.46467676e-06 -2.10631652e-08j  -2.77854282e-06 +0.00000000e+00j\n",
       "    1.81903026e-05 -1.10056750e-05j   7.92635912e-06 -4.14850439e-07j\n",
       "    2.93798400e-06 -3.92767141e-06j  -3.04759352e-06 +2.57647908e-07j]\n",
       " [ -2.58288167e-07 -1.27921711e-05j  -4.31520522e-05 -2.57314975e-05j\n",
       "    5.96112457e-05 -7.67996743e-06j   9.62824387e-05 -9.80120286e-05j\n",
       "    6.18446557e-07 +2.84722990e-06j  -5.24734318e-06 -1.43367519e-05j\n",
       "    1.03618107e-05 -4.07512485e-06j   5.03441939e-05 -2.67670987e-05j\n",
       "   -2.22100313e-07 +4.02861817e-07j  -1.22953724e-06 -3.51373732e-06j\n",
       "    1.02669398e-05 +1.99749237e-06j   1.81903026e-05 +1.10056750e-05j\n",
       "    2.23802577e-06 +0.00000000e+00j   3.29034440e-06 +1.20730674e-06j\n",
       "   -2.66072105e-06 -3.73440410e-06j  -1.29348482e-05 -4.23824402e-06j]\n",
       " [  1.12599053e-05 +1.83589935e-05j   4.77958465e-06 +8.05297234e-06j\n",
       "   -7.89677263e-06 -3.49514125e-05j   5.03441939e-05 -2.67670987e-05j\n",
       "    4.56731884e-06 +1.62579531e-05j   1.80019696e-06 -4.21792364e-06j\n",
       "    2.29013279e-06 +3.23231234e-06j   1.05099143e-05 -5.35170761e-06j\n",
       "   -8.35901919e-06 +1.48162511e-06j  -1.94982925e-07 -1.66277075e-07j\n",
       "    3.18914089e-06 -2.93672026e-07j   7.92635912e-06 +4.14850439e-07j\n",
       "    3.29034440e-06 -1.20730674e-06j  -3.21593625e-06 +0.00000000e+00j\n",
       "    3.53184517e-06 -5.04453786e-06j  -2.83114834e-06 +2.41693561e-06j]\n",
       " [  5.95718051e-05 -5.72821196e-05j   4.53630101e-05 -3.66413954e-05j\n",
       "    8.41355176e-06 +8.97744275e-06j   1.81903026e-05 +1.10056750e-05j\n",
       "    1.40490697e-05 +9.00525227e-06j   1.08311915e-06 +1.12073081e-05j\n",
       "    4.12504824e-07 -1.04624187e-06j   7.92635912e-06 +4.14850439e-07j\n",
       "    3.33599845e-08 +1.68556866e-06j  -1.02897977e-05 -3.77146472e-06j\n",
       "    3.46467676e-06 +2.10631652e-08j   2.93798400e-06 +3.92767141e-06j\n",
       "   -2.66072105e-06 +3.73440410e-06j   3.53184517e-06 +5.04453786e-06j\n",
       "   -2.77854282e-06 +0.00000000e+00j  -3.04759352e-06 -2.57647908e-07j]\n",
       " [  3.18242571e-04 +0.00000000e+00j   3.32932140e-05 -1.23608885e-05j\n",
       "    2.10788983e-05 -5.14227451e-06j  -1.29348482e-05 -4.23824402e-06j\n",
       "    3.32932140e-05 +1.23608885e-05j   2.11654354e-05 -8.47032947e-22j\n",
       "    3.80711335e-06 -5.54385643e-06j  -2.83114834e-06 +2.41693561e-06j\n",
       "    2.10788983e-05 +5.14227451e-06j   3.80711335e-06 +5.54385643e-06j\n",
       "    1.07581974e-05 +1.35525272e-20j  -3.04759352e-06 -2.57647908e-07j\n",
       "   -1.29348482e-05 +4.23824402e-06j  -2.83114834e-06 -2.41693561e-06j\n",
       "   -3.04759352e-06 +2.57647908e-07j   3.75645330e-06 +0.00000000e+00j]]"
      ]
     },
     "metadata": {},
     "output_type": "display_data"
    },
    {
     "data": {
      "text/latex": [
       "$\\|\\Sigma\\rho\\|_{Tr} = 0.0013$"
      ],
      "text/plain": [
       "<IPython.core.display.Latex object>"
      ]
     },
     "metadata": {},
     "output_type": "display_data"
    }
   ],
   "source": [
    "cov_superop=basis.covariance_mtx_to_superop(updater.est_covariance_mtx())\n",
    "display(qt.to_choi(cov_superop))\n",
    "display(Latex(r\"$\\|\\Sigma\\rho\\|_{{Tr}} = {:0.4f}$\".format(cov_superop.norm('tr'))))"
   ]
  },
  {
   "cell_type": "code",
   "execution_count": 81,
   "metadata": {
    "collapsed": false
   },
   "outputs": [
    {
     "data": {
      "text/plain": [
       "(<matplotlib.figure.Figure at 0x110a506d0>,\n",
       " <matplotlib.axes._subplots.AxesSubplot at 0x112141750>)"
      ]
     },
     "metadata": {},
     "output_type": "display_data"
    },
    {
     "data": {
      "image/png": "[encoded data removed]",
      "text/plain": [
       "<matplotlib.figure.Figure at 0x110a506d0>"
      ]
     },
     "metadata": {},
     "output_type": "display_data"
    }
   ],
   "source": [
    "display(qt.visualization.hinton(cov_superop))"
   ]
  },
  {
   "cell_type": "code",
   "execution_count": null,
   "metadata": {
    "collapsed": false
   },
   "outputs": [],
   "source": [
    "# This takes up lots of memory (>20 GB) and then seems to crash computer at presesnt lol\n",
    "\n",
    "# faces, vertices = updater.region_est_hull(modelparam_slice=np.s_[1:])"
   ]
  },
  {
   "cell_type": "code",
   "execution_count": null,
   "metadata": {
    "collapsed": true
   },
   "outputs": [],
   "source": [
    "# a, c = updater.region_est_ellipsoid(modelparam_slice=np.s_[1:])"
   ]
  }
 ],
 "metadata": {
  "anaconda-cloud": {},
  "kernelspec": {
   "display_name": "Python [conda root]",
   "language": "python",
   "name": "conda-root-py"
  },
  "language_info": {
   "codemirror_mode": {
    "name": "ipython",
    "version": 2
   },
   "file_extension": ".py",
   "mimetype": "text/x-python",
   "name": "python",
   "nbconvert_exporter": "python",
   "pygments_lexer": "ipython2",
   "version": "2.7.13"
  }
 },
 "nbformat": 4,
 "nbformat_minor": 1
}
