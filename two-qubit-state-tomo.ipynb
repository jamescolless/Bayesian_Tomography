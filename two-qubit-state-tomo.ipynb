{
 "cells": [
  {
   "cell_type": "code",
   "execution_count": 1,
   "metadata": {
    "collapsed": true
   },
   "outputs": [],
   "source": [
    "from __future__ import division, print_function\n",
    "%matplotlib inline"
   ]
  },
  {
   "cell_type": "code",
   "execution_count": 2,
   "metadata": {
    "collapsed": true
   },
   "outputs": [],
   "source": [
    "from future.builtins import next"
   ]
  },
  {
   "cell_type": "code",
   "execution_count": 3,
   "metadata": {
    "collapsed": true
   },
   "outputs": [],
   "source": [
    "import numpy as np"
   ]
  },
  {
   "cell_type": "code",
   "execution_count": 4,
   "metadata": {
    "collapsed": true
   },
   "outputs": [],
   "source": [
    "import qinfer as qi\n",
    "import qutip as qt"
   ]
  },
  {
   "cell_type": "code",
   "execution_count": 5,
   "metadata": {
    "collapsed": true
   },
   "outputs": [],
   "source": [
    "import itertools as it\n",
    "from functools import partial"
   ]
  },
  {
   "cell_type": "code",
   "execution_count": 6,
   "metadata": {
    "collapsed": true
   },
   "outputs": [],
   "source": [
    "import matplotlib.pyplot as plt\n",
    "plt.style.use('ggplot')"
   ]
  },
  {
   "cell_type": "code",
   "execution_count": 7,
   "metadata": {
    "collapsed": true
   },
   "outputs": [],
   "source": [
    "I, X, Y, Z = qt.qeye(2), qt.sigmax(), qt.sigmay(), qt.sigmaz()"
   ]
  },
  {
   "cell_type": "code",
   "execution_count": 8,
   "metadata": {
    "collapsed": false
   },
   "outputs": [],
   "source": [
    "basis = qi.tomography.pauli_basis(2)\n",
    "model = qi.BinomialModel(qi.tomography.TomographyModel(basis))\n",
    "prior = qi.tomography.GinibreDistribution(basis)"
   ]
  },
  {
   "cell_type": "code",
   "execution_count": 9,
   "metadata": {
    "collapsed": false
   },
   "outputs": [
    {
     "data": {
      "text/latex": [
       "Quantum object: dims = [[2, 2], [2, 2]], shape = [4, 4], type = oper, isherm = True\\begin{equation*}\\left(\\begin{array}{*{11}c}1.0 & 0.0 & 0.0 & 0.0\\\\0.0 & 0.0 & 0.0 & 0.0\\\\0.0 & 0.0 & 0.0 & 0.0\\\\0.0 & 0.0 & 0.0 & 0.0\\\\\\end{array}\\right)\\end{equation*}"
      ],
      "text/plain": [
       "Quantum object: dims = [[2, 2], [2, 2]], shape = [4, 4], type = oper, isherm = True\n",
       "Qobj data =\n",
       "[[ 1.  0.  0.  0.]\n",
       " [ 0.  0.  0.  0.]\n",
       " [ 0.  0.  0.  0.]\n",
       " [ 0.  0.  0.  0.]]"
      ]
     },
     "execution_count": 9,
     "metadata": {},
     "output_type": "execute_result"
    }
   ],
   "source": [
    "fiducial_measurement = qt.ket2dm(qt.tensor([qt.basis(2, 0)] * 2))\n",
    "fiducial_measurement"
   ]
  },
  {
   "cell_type": "code",
   "execution_count": 10,
   "metadata": {
    "collapsed": false
   },
   "outputs": [],
   "source": [
    "X_pi  = (-1j * np.pi * X / 2).expm()\n",
    "X_pi2 = (-1j * np.pi * X / 4).expm()\n",
    "Y_pi2 = (-1j * np.pi * Y / 4).expm()"
   ]
  },
  {
   "cell_type": "code",
   "execution_count": 11,
   "metadata": {
    "collapsed": false
   },
   "outputs": [],
   "source": [
    "measurement_operators = [\n",
    "    U * fiducial_measurement * U.dag()\n",
    "    for U in it.starmap(qt.tensor, it.product(*([\n",
    "        [I, X_pi, X_pi2, Y_pi2]\n",
    "    ] * 2)))\n",
    "]\n",
    "measurement_operators += [\n",
    "    qt.tensor(I, I) - op for op in measurement_operators\n",
    "]"
   ]
  },
  {
   "cell_type": "code",
   "execution_count": 12,
   "metadata": {
    "collapsed": true
   },
   "outputs": [],
   "source": [
    "expparams = np.empty(\n",
    "    (len(measurement_operators),),\n",
    "    dtype=model.expparams_dtype\n",
    ")\n",
    "expparams['meas'] = [basis.state_to_modelparams(op) for op in measurement_operators]\n",
    "expparams['n_meas'] = 50"
   ]
  },
  {
   "cell_type": "code",
   "execution_count": 13,
   "metadata": {
    "collapsed": true
   },
   "outputs": [],
   "source": [
    "def cycle_heuristic(expparams):\n",
    "    \n",
    "    def heuristic(updater):\n",
    "        return partial(next, it.cycle(expparams[:, np.newaxis]))\n",
    "    \n",
    "    return heuristic"
   ]
  },
  {
   "cell_type": "code",
   "execution_count": 14,
   "metadata": {
    "collapsed": false
   },
   "outputs": [
    {
     "name": "stderr",
     "output_type": "stream",
     "text": [
      "/home/cgranade/anaconda3/lib/python3.5/site-packages/QInfer-1.0-py3.5.egg/qinfer/utils.py:268: ApproximationWarning: Numerical error in covariance estimation causing positive semidefinite violation.\n",
      "  warnings.warn('Numerical error in covariance estimation causing positive semidefinite violation.', ApproximationWarning)\n"
     ]
    }
   ],
   "source": [
    "perf = qi.perf_test_multiple(200,\n",
    "    model, 6000, prior,\n",
    "    len(expparams), cycle_heuristic(expparams),\n",
    "    progressbar=qi.IPythonProgressBar\n",
    ")"
   ]
  },
  {
   "cell_type": "code",
   "execution_count": 15,
   "metadata": {
    "collapsed": false
   },
   "outputs": [
    {
     "data": {
      "text/plain": [
       "[<matplotlib.lines.Line2D at 0x7f1fd8627898>]"
      ]
     },
     "execution_count": 15,
     "metadata": {},
     "output_type": "execute_result"
    },
    {
     "data": {
      "image/png": "[encoded data removed]",
      "text/plain": [
       "<matplotlib.figure.Figure at 0x7f1fd8636ef0>"
      ]
     },
     "metadata": {},
     "output_type": "display_data"
    }
   ],
   "source": [
    "plt.plot(np.median(perf['loss'], axis=0))\n",
    "plt.plot(np.mean(perf['loss'], axis=0))"
   ]
  },
  {
   "cell_type": "markdown",
   "metadata": {
    "collapsed": true
   },
   "source": [
    "## Updater Loop ##"
   ]
  },
  {
   "cell_type": "code",
   "execution_count": 45,
   "metadata": {
    "collapsed": true
   },
   "outputs": [],
   "source": [
    "expparams['n_meas'] = 100"
   ]
  },
  {
   "cell_type": "code",
   "execution_count": 55,
   "metadata": {
    "collapsed": false
   },
   "outputs": [],
   "source": [
    "true_state = qt.tensor([qt.Qobj(\n",
    "    [\n",
    "        [0.9, 0.01 + 0.01j],\n",
    "        [0.01 - 0.01j, 0.1]\n",
    "    ]\n",
    ")] * 2)"
   ]
  },
  {
   "cell_type": "code",
   "execution_count": 56,
   "metadata": {
    "collapsed": true
   },
   "outputs": [],
   "source": [
    "true_mps = basis.state_to_modelparams(true_state)[np.newaxis, :]"
   ]
  },
  {
   "cell_type": "code",
   "execution_count": 57,
   "metadata": {
    "collapsed": false
   },
   "outputs": [
    {
     "name": "stderr",
     "output_type": "stream",
     "text": [
      "/home/cgranade/anaconda3/lib/python3.5/site-packages/QInfer-1.0-py3.5.egg/qinfer/smc.py:285: ApproximationWarning: Extremely small n_ess encountered (3.0250880469009043). Resampling is likely to fail. Consider adding particles, or resampling more often.\n",
      "  ApproximationWarning\n",
      "/home/cgranade/anaconda3/lib/python3.5/site-packages/QInfer-1.0-py3.5.egg/qinfer/utils.py:268: ApproximationWarning: Numerical error in covariance estimation causing positive semidefinite violation.\n",
      "  warnings.warn('Numerical error in covariance estimation causing positive semidefinite violation.', ApproximationWarning)\n"
     ]
    }
   ],
   "source": [
    "updater = qi.SMCUpdater(model, 12000, prior)\n",
    "# We use np.newaxis here to make sure that\n",
    "# experiment is a 1D array within the body of the\n",
    "# loop.\n",
    "for experiment in expparams[:, np.newaxis]:\n",
    "    datum = model.simulate_experiment(true_mps, experiment)\n",
    "    updater.update(datum, experiment)"
   ]
  },
  {
   "cell_type": "code",
   "execution_count": 58,
   "metadata": {
    "collapsed": false
   },
   "outputs": [],
   "source": [
    "est_state = basis.modelparams_to_state(updater.est_mean())"
   ]
  },
  {
   "cell_type": "code",
   "execution_count": 59,
   "metadata": {
    "collapsed": false
   },
   "outputs": [
    {
     "data": {
      "text/latex": [
       "Quantum object: dims = [[2, 2], [2, 2]], shape = [4, 4], type = oper, isherm = True\\begin{equation*}\\left(\\begin{array}{*{11}c}0.693 & (-0.043+0.043j) & (0.028+0.034j) & (0.068-0.009j)\\\\(-0.043-0.043j) & 0.128 & (-0.012+0.005j) & (0.005-0.009j)\\\\(0.028-0.034j) & (-0.012-0.005j) & 0.082 & (0.002+0.028j)\\\\(0.068+0.009j) & (0.005+0.009j) & (0.002-0.028j) & 0.097\\\\\\end{array}\\right)\\end{equation*}"
      ],
      "text/plain": [
       "Quantum object: dims = [[2, 2], [2, 2]], shape = [4, 4], type = oper, isherm = True\n",
       "Qobj data =\n",
       "[[ 0.69258861+0.j         -0.04306205+0.04297341j  0.02785794+0.03399417j\n",
       "   0.06769224-0.00929301j]\n",
       " [-0.04306205-0.04297341j  0.12809561+0.j         -0.01177088+0.00517686j\n",
       "   0.00473614-0.00909154j]\n",
       " [ 0.02785794-0.03399417j -0.01177088-0.00517686j  0.08191759+0.j\n",
       "   0.00238023+0.02828578j]\n",
       " [ 0.06769224+0.00929301j  0.00473614+0.00909154j  0.00238023-0.02828578j\n",
       "   0.09739820+0.j        ]]"
      ]
     },
     "execution_count": 59,
     "metadata": {},
     "output_type": "execute_result"
    }
   ],
   "source": [
    "est_state"
   ]
  },
  {
   "cell_type": "code",
   "execution_count": 60,
   "metadata": {
    "collapsed": false
   },
   "outputs": [
    {
     "data": {
      "text/latex": [
       "Quantum object: dims = [[2, 2], [2, 2]], shape = [4, 4], type = oper, isherm = True\\begin{equation*}\\left(\\begin{array}{*{11}c}-0.117 & (-0.052+0.034j) & (0.019+0.025j) & (0.068-0.009j)\\\\(-0.052-0.034j) & 0.038 & (-0.012+0.005j) & (0.004-0.010j)\\\\(0.019-0.025j) & (-0.012-0.005j) & -0.008 & (0.001+0.027j)\\\\(0.068+0.009j) & (0.004+0.010j) & (0.001-0.027j) & 0.087\\\\\\end{array}\\right)\\end{equation*}"
      ],
      "text/plain": [
       "Quantum object: dims = [[2, 2], [2, 2]], shape = [4, 4], type = oper, isherm = True\n",
       "Qobj data =\n",
       "[[-0.11741139+0.j         -0.05206205+0.03397341j  0.01885794+0.02499417j\n",
       "   0.06769224-0.00949301j]\n",
       " [-0.05206205-0.03397341j  0.03809561+0.j         -0.01197088+0.00517686j\n",
       "   0.00373614-0.01009154j]\n",
       " [ 0.01885794-0.02499417j -0.01197088-0.00517686j -0.00808241+0.j\n",
       "   0.00138023+0.02728578j]\n",
       " [ 0.06769224+0.00949301j  0.00373614+0.01009154j  0.00138023-0.02728578j\n",
       "   0.08739820+0.j        ]]"
      ]
     },
     "execution_count": 60,
     "metadata": {},
     "output_type": "execute_result"
    }
   ],
   "source": [
    "est_state - true_state"
   ]
  },
  {
   "cell_type": "code",
   "execution_count": 76,
   "metadata": {
    "collapsed": false
   },
   "outputs": [
    {
     "data": {
      "text/plain": [
       "([<matplotlib.axis.XTick at 0x7f1fd20349e8>,\n",
       "  <matplotlib.axis.XTick at 0x7f1fd1e4ad30>,\n",
       "  <matplotlib.axis.XTick at 0x7f1fd1fabe48>,\n",
       "  <matplotlib.axis.XTick at 0x7f1fd1d9f278>,\n",
       "  <matplotlib.axis.XTick at 0x7f1fd1d9fcc0>,\n",
       "  <matplotlib.axis.XTick at 0x7f1fd1da1748>,\n",
       "  <matplotlib.axis.XTick at 0x7f1fd1da61d0>,\n",
       "  <matplotlib.axis.XTick at 0x7f1fd1da6c18>,\n",
       "  <matplotlib.axis.XTick at 0x7f1fd1da96a0>,\n",
       "  <matplotlib.axis.XTick at 0x7f1fd1dad128>,\n",
       "  <matplotlib.axis.XTick at 0x7f1fd1dadb70>,\n",
       "  <matplotlib.axis.XTick at 0x7f1fd1db25f8>,\n",
       "  <matplotlib.axis.XTick at 0x7f1fd1db4080>,\n",
       "  <matplotlib.axis.XTick at 0x7f1fd1db4ac8>,\n",
       "  <matplotlib.axis.XTick at 0x7f1fd1db8550>,\n",
       "  <matplotlib.axis.XTick at 0x7f1fd1db8f98>],\n",
       " <a list of 16 Text xticklabel objects>)"
      ]
     },
     "execution_count": 76,
     "metadata": {},
     "output_type": "execute_result"
    },
    {
     "data": {
      "image/png": "[encoded data removed]",
      "text/plain": [
       "<matplotlib.figure.Figure at 0x7f1fd3e2f9e8>"
      ]
     },
     "metadata": {},
     "output_type": "display_data"
    }
   ],
   "source": [
    "plt.bar(np.arange(16), (true_mps - updater.est_mean())[0, :])\n",
    "plt.xticks(np.arange(16) + 0.5, map(\"${}$\".format, basis.labels), rotation='vertical')"
   ]
  },
  {
   "cell_type": "markdown",
   "metadata": {},
   "source": [
    "NB: we omit the traceful part (modelparam 0) when taking the hull. The convex hull algorithm (quickhull) is fast in the number of points, but very slow in the number of dimensions, so this call will take a long time."
   ]
  },
  {
   "cell_type": "code",
   "execution_count": null,
   "metadata": {
    "collapsed": false
   },
   "outputs": [],
   "source": [
    "faces, vertices = updater.region_est_hull(modelparam_slice=np.s_[1:])"
   ]
  },
  {
   "cell_type": "code",
   "execution_count": null,
   "metadata": {
    "collapsed": true
   },
   "outputs": [],
   "source": []
  }
 ],
 "metadata": {
  "anaconda-cloud": {},
  "kernelspec": {
   "display_name": "Python [default]",
   "language": "python",
   "name": "python3"
  },
  "language_info": {
   "codemirror_mode": {
    "name": "ipython",
    "version": 3
   },
   "file_extension": ".py",
   "mimetype": "text/x-python",
   "name": "python",
   "nbconvert_exporter": "python",
   "pygments_lexer": "ipython3",
   "version": "3.5.2"
  }
 },
 "nbformat": 4,
 "nbformat_minor": 1
}
