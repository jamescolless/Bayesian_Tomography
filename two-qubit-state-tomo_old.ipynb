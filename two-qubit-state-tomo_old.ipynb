{
 "cells": [
  {
   "cell_type": "code",
   "execution_count": 321,
   "metadata": {
    "collapsed": true
   },
   "outputs": [],
   "source": [
    "from __future__ import division, print_function\n",
    "%matplotlib inline"
   ]
  },
  {
   "cell_type": "code",
   "execution_count": 322,
   "metadata": {
    "collapsed": true
   },
   "outputs": [],
   "source": [
    "from future.builtins import next"
   ]
  },
  {
   "cell_type": "code",
   "execution_count": 323,
   "metadata": {
    "collapsed": true
   },
   "outputs": [],
   "source": [
    "import numpy as np"
   ]
  },
  {
   "cell_type": "code",
   "execution_count": 324,
   "metadata": {
    "collapsed": false
   },
   "outputs": [],
   "source": [
    "import qinfer as qi\n",
    "import qutip as qt"
   ]
  },
  {
   "cell_type": "code",
   "execution_count": 325,
   "metadata": {
    "collapsed": true
   },
   "outputs": [],
   "source": [
    "import itertools as it\n",
    "from functools import partial"
   ]
  },
  {
   "cell_type": "code",
   "execution_count": 6,
   "metadata": {
    "collapsed": true
   },
   "outputs": [],
   "source": [
    "import matplotlib.pyplot as plt\n",
    "plt.style.use('ggplot')"
   ]
  },
  {
   "cell_type": "code",
   "execution_count": 676,
   "metadata": {
    "collapsed": false
   },
   "outputs": [],
   "source": [
    "basis = qi.tomography.pauli_basis(2)\n",
    "model = qi.BinomialModel(qi.tomography.TomographyModel(basis))\n",
    "prior = qi.tomography.GinibreDistribution(basis)"
   ]
  },
  {
   "cell_type": "code",
   "execution_count": 677,
   "metadata": {
    "collapsed": false
   },
   "outputs": [
    {
     "data": {
      "text/latex": [
       "Quantum object: dims = [[2, 2], [2, 2]], shape = (4, 4), type = oper, isherm = True\\begin{equation*}\\left(\\begin{array}{*{11}c}1.0 & 0.0 & 0.0 & 0.0\\\\0.0 & 0.0 & 0.0 & 0.0\\\\0.0 & 0.0 & 0.0 & 0.0\\\\0.0 & 0.0 & 0.0 & 0.0\\\\\\end{array}\\right)\\end{equation*}"
      ],
      "text/plain": [
       "Quantum object: dims = [[2, 2], [2, 2]], shape = (4, 4), type = oper, isherm = True\n",
       "Qobj data =\n",
       "[[ 1.  0.  0.  0.]\n",
       " [ 0.  0.  0.  0.]\n",
       " [ 0.  0.  0.  0.]\n",
       " [ 0.  0.  0.  0.]]"
      ]
     },
     "execution_count": 677,
     "metadata": {},
     "output_type": "execute_result"
    }
   ],
   "source": [
    "fiducial_measurement = qt.ket2dm(qt.tensor([qt.basis(2, 0)] * 2))\n",
    "fiducial_measurement"
   ]
  },
  {
   "cell_type": "code",
   "execution_count": 678,
   "metadata": {
    "collapsed": false
   },
   "outputs": [],
   "source": [
    "def PreRotationMeasurements(single_qubit_ops, core_measurement, n_qubits=2, include_conjugate=True):\n",
    "    \"\"\"Generate a set of measurement operators based on a set of rotations of a core measurement,\n",
    "    optionally including the conjugate of the same measurements as well.  Easily generates the sets in\n",
    "    http://journals.aps.org/pra/pdf/10.1103/PhysRevA.81.062325 using [I, PiX, PiX2, PiY2], M = |00><00|,\n",
    "    include_conjugate=True\"\"\"\n",
    "\n",
    "    assert (n_qubits == 2) #May optionally generalize later\n",
    "\n",
    "    FullMeasurementList = []\n",
    "    \n",
    "    for m1 in single_qubit_ops:\n",
    "        for m2 in single_qubit_ops:\n",
    "            FullMeasurementList.append(np.dot(np.conj(np.kron(m1, m2).T), np.dot(core_measurement, np.kron(m1, m2))))\n",
    "\n",
    "    if (include_conjugate):\n",
    "        FullMeasurementList.extend([np.conj(m) for m in FullMeasurementList])\n",
    "\n",
    "    return FullMeasurementList\n",
    "\n",
    "#Define Tomographic Measurements\n",
    "Id = np.eye(2, dtype=complex)\n",
    "X = np.array([[0.0, 1.0],\n",
    "              [1.0, 0.0]])\n",
    "Y = np.array([[0.0, -1.0j],\n",
    "              [1.0j, 0.0]])\n",
    "Z = np.array([[1.0, 0.0],\n",
    "              [0.0, -1.0]])\n",
    "\n",
    "PiX = np.cos(np.pi/2.) * Id - 1.j * np.sin(np.pi/2.) * X\n",
    "PiX2 = np.cos(np.pi/4.) * Id - 1.j * np.sin(np.pi/4.) * X\n",
    "PiY2 = np.cos(np.pi/4.) * Id - 1.j * np.sin(np.pi/4.) * Y\n",
    "\n",
    "# beta_vec=[0.32182797213542436,0.20388382857043799,0.26690981910827039,0.17047277839951108]\n",
    "beta_vec=[0.25,.25,.25,.25]\n",
    "CoreMeasurement = (np.kron(Id, Id) + np.kron(Z, Id) + np.kron(Id,Z) + np.kron(Z,Z))\n",
    "\n",
    "CoreMeasurement=np.multiply(CoreMeasurement,beta_vec)\n",
    "\n",
    "SingleMeasurementList = [Id, PiX, PiX2, PiY2]\n",
    "FullMeasurementList = PreRotationMeasurements(SingleMeasurementList, CoreMeasurement, \n",
    "                                              n_qubits=2, include_conjugate=True)"
   ]
  },
  {
   "cell_type": "code",
   "execution_count": 680,
   "metadata": {
    "collapsed": false
   },
   "outputs": [],
   "source": [
    "meas_ops=[]\n",
    "meas_ops += [qt.Qobj(op) for op in FullMeasurementList]\n",
    "\n",
    "expparams = np.empty((len(meas_ops),),dtype=model.expparams_dtype)\n",
    "\n",
    "expparams['meas'] = [basis.state_to_modelparams(op) for op in meas_ops]\n",
    "expparams['n_meas'] = 50"
   ]
  },
  {
   "cell_type": "code",
   "execution_count": 681,
   "metadata": {
    "collapsed": true
   },
   "outputs": [],
   "source": [
    "def cycle_heuristic(expparams):\n",
    "    \n",
    "    def heuristic(updater):\n",
    "        return partial(next, it.cycle(expparams[:, np.newaxis]))\n",
    "    \n",
    "    return heuristic"
   ]
  },
  {
   "cell_type": "code",
   "execution_count": 539,
   "metadata": {
    "collapsed": false,
    "scrolled": false
   },
   "outputs": [
    {
     "name": "stderr",
     "output_type": "stream",
     "text": [
      "/Users/jcolless/anaconda/lib/python2.7/site-packages/qinfer/smc.py:285: ApproximationWarning: Extremely small n_ess encountered (6.74172039524). Resampling is likely to fail. Consider adding particles, or resampling more often.\n",
      "  ApproximationWarning\n",
      "/Users/jcolless/anaconda/lib/python2.7/site-packages/qinfer/smc.py:285: ApproximationWarning: Extremely small n_ess encountered (9.13020333115). Resampling is likely to fail. Consider adding particles, or resampling more often.\n",
      "  ApproximationWarning\n"
     ]
    }
   ],
   "source": [
    "perf = qi.perf_test_multiple(50,\n",
    "    model, 500, prior,\n",
    "    len(expparams), cycle_heuristic(expparams),\n",
    "    progressbar=qi.IPythonProgressBar\n",
    ")"
   ]
  },
  {
   "cell_type": "code",
   "execution_count": 540,
   "metadata": {
    "collapsed": false
   },
   "outputs": [
    {
     "data": {
      "text/plain": [
       "[<matplotlib.lines.Line2D at 0x11824ca90>]"
      ]
     },
     "execution_count": 540,
     "metadata": {},
     "output_type": "execute_result"
    },
    {
     "data": {
      "image/png": "[encoded data removed]",
      "text/plain": [
       "<matplotlib.figure.Figure at 0x1180eb750>"
      ]
     },
     "metadata": {},
     "output_type": "display_data"
    }
   ],
   "source": [
    "plt.plot(np.median(perf['loss'], axis=0))\n",
    "plt.plot(np.mean(perf['loss'], axis=0))"
   ]
  },
  {
   "cell_type": "markdown",
   "metadata": {
    "collapsed": true
   },
   "source": [
    "## Updater Loop ##"
   ]
  },
  {
   "cell_type": "code",
   "execution_count": 688,
   "metadata": {
    "collapsed": false
   },
   "outputs": [
    {
     "name": "stdout",
     "output_type": "stream",
     "text": [
      "[ 50.   4.  27.  27.   4.   0.   3.   2.  27.   2.  14.  14.  27.   2.  15.\n",
      "  15.  50.   4.  27.  27.   4.   1.   3.   2.  27.   3.  15.  14.  27.   2.\n",
      "  15.  15.]\n"
     ]
    },
    {
     "data": {
      "text/latex": [
       "Quantum object: dims = [[2, 2], [2, 2]], shape = (4, 4), type = oper, isherm = True\\begin{equation*}\\left(\\begin{array}{*{11}c}1.0 & 0.0 & 0.0 & 0.0\\\\0.0 & 0.0 & 0.0 & 0.0\\\\0.0 & 0.0 & 0.0 & 0.0\\\\0.0 & 0.0 & 0.0 & 0.0\\\\\\end{array}\\right)\\end{equation*}"
      ],
      "text/plain": [
       "Quantum object: dims = [[2, 2], [2, 2]], shape = (4, 4), type = oper, isherm = True\n",
       "Qobj data =\n",
       "[[ 1.  0.  0.  0.]\n",
       " [ 0.  0.  0.  0.]\n",
       " [ 0.  0.  0.  0.]\n",
       " [ 0.  0.  0.  0.]]"
      ]
     },
     "execution_count": 688,
     "metadata": {},
     "output_type": "execute_result"
    }
   ],
   "source": [
    "expparams['n_meas'] = 50\n",
    "number_of_batches = 1\n",
    "\n",
    "true_state = qt.tensor(qt.Qobj([[1, 0],[0, 0]]),qt.Qobj([[1, 0],[0, 0]]))\n",
    "\n",
    "true_mps = basis.state_to_modelparams(true_state)[np.newaxis, :]\n",
    "exp_data=np.round(np.multiply(GS_2[0:32],expparams['n_meas'][0]*number_of_batches))\n",
    "\n",
    "print(exp_data)\n",
    "true_state"
   ]
  },
  {
   "cell_type": "code",
   "execution_count": 689,
   "metadata": {
    "collapsed": false
   },
   "outputs": [],
   "source": [
    "ideal_data = [0] * 32\n",
    "\n",
    "for batch in range(number_of_batches):\n",
    "    i=0\n",
    "    for experiment in expparams[:, np.newaxis]:\n",
    "        datum = model.simulate_experiment(true_mps, experiment)\n",
    "        ideal_data[i]+=datum\n",
    "        i+=1"
   ]
  },
  {
   "cell_type": "code",
   "execution_count": 690,
   "metadata": {
    "collapsed": false
   },
   "outputs": [
    {
     "data": {
      "image/png": "[encoded data removed]",
      "text/plain": [
       "<matplotlib.figure.Figure at 0x11bbc2750>"
      ]
     },
     "metadata": {},
     "output_type": "display_data"
    },
    {
     "data": {
      "text/plain": [
       "[<matplotlib.lines.Line2D at 0x11c536510>]"
      ]
     },
     "execution_count": 690,
     "metadata": {},
     "output_type": "execute_result"
    },
    {
     "data": {
      "image/png": "[encoded data removed]",
      "text/plain": [
       "<matplotlib.figure.Figure at 0x11c17e6d0>"
      ]
     },
     "metadata": {},
     "output_type": "display_data"
    }
   ],
   "source": [
    "plt.plot(ideal_data)\n",
    "plt.plot(exp_data)\n",
    "plt.show()\n",
    "plt.plot(np.abs(ideal_data-exp_data)/3000)"
   ]
  },
  {
   "cell_type": "code",
   "execution_count": 693,
   "metadata": {
    "collapsed": false
   },
   "outputs": [
    {
     "name": "stderr",
     "output_type": "stream",
     "text": [
      "/Users/jcolless/anaconda/lib/python2.7/site-packages/qinfer/smc.py:285: ApproximationWarning: Extremely small n_ess encountered (2.42199080985). Resampling is likely to fail. Consider adding particles, or resampling more often.\n",
      "  ApproximationWarning\n"
     ]
    }
   ],
   "source": [
    "updater = qi.SMCUpdater(model, 5000, prior)\n",
    "\n",
    "for batch in range(number_of_batches):\n",
    "    i=0\n",
    "    for experiment in expparams[:, np.newaxis]:\n",
    "        datum=np.round(exp_data[i]/number_of_batches)\n",
    "        updater.update(datum, experiment)\n",
    "        i+=1"
   ]
  },
  {
   "cell_type": "code",
   "execution_count": 694,
   "metadata": {
    "collapsed": false
   },
   "outputs": [
    {
     "data": {
      "text/latex": [
       "Quantum object: dims = [[2, 2], [2, 2]], shape = (4, 4), type = oper, isherm = True\\begin{equation*}\\left(\\begin{array}{*{11}c}0.629 & (-0.127-0.014j) & (0.054+0.093j) & (0.009-0.044j)\\\\(-0.127+0.014j) & 0.119 & (-0.041-0.045j) & (0.039+1.124\\times10^{-04}j)\\\\(0.054-0.093j) & (-0.041+0.045j) & 0.171 & (-0.036-0.036j)\\\\(0.009+0.044j) & (0.039-1.124\\times10^{-04}j) & (-0.036+0.036j) & 0.082\\\\\\end{array}\\right)\\end{equation*}"
      ],
      "text/plain": [
       "Quantum object: dims = [[2, 2], [2, 2]], shape = (4, 4), type = oper, isherm = True\n",
       "Qobj data =\n",
       "[[ 0.62861495+0.j         -0.12681858-0.01406297j  0.05443726+0.0934675j\n",
       "   0.00905773-0.04419037j]\n",
       " [-0.12681858+0.01406297j  0.11855300+0.j         -0.04056348-0.04483257j\n",
       "   0.03851000+0.00011239j]\n",
       " [ 0.05443726-0.0934675j  -0.04056348+0.04483257j  0.17069401+0.j\n",
       "  -0.03616614-0.03596709j]\n",
       " [ 0.00905773+0.04419037j  0.03851000-0.00011239j -0.03616614+0.03596709j\n",
       "   0.08213804+0.j        ]]"
      ]
     },
     "execution_count": 694,
     "metadata": {},
     "output_type": "execute_result"
    }
   ],
   "source": [
    "est_state = basis.modelparams_to_state(updater.est_mean())\n",
    "est_state"
   ]
  },
  {
   "cell_type": "code",
   "execution_count": 687,
   "metadata": {
    "collapsed": false
   },
   "outputs": [
    {
     "data": {
      "text/latex": [
       "Quantum object: dims = [[2, 2], [2, 2]], shape = (4, 4), type = oper, isherm = True\\begin{equation*}\\left(\\begin{array}{*{11}c}1.0 & 0.0 & 0.0 & 0.0\\\\0.0 & 0.0 & 0.0 & 0.0\\\\0.0 & 0.0 & 0.0 & 0.0\\\\0.0 & 0.0 & 0.0 & 0.0\\\\\\end{array}\\right)\\end{equation*}"
      ],
      "text/plain": [
       "Quantum object: dims = [[2, 2], [2, 2]], shape = (4, 4), type = oper, isherm = True\n",
       "Qobj data =\n",
       "[[ 1.  0.  0.  0.]\n",
       " [ 0.  0.  0.  0.]\n",
       " [ 0.  0.  0.  0.]\n",
       " [ 0.  0.  0.  0.]]"
      ]
     },
     "execution_count": 687,
     "metadata": {},
     "output_type": "execute_result"
    }
   ],
   "source": [
    "true_state"
   ]
  },
  {
   "cell_type": "code",
   "execution_count": 455,
   "metadata": {
    "collapsed": false
   },
   "outputs": [
    {
     "data": {
      "text/plain": [
       "array([ 0.5       ,  0.04847909, -0.07169135,  0.31731047, -0.06881028,\n",
       "       -0.00680501,  0.13105656, -0.12479183,  0.05672536,  0.03937975,\n",
       "       -0.00556914,  0.06367069,  0.26528405, -0.03956664, -0.11278846,\n",
       "        0.24255185])"
      ]
     },
     "execution_count": 455,
     "metadata": {},
     "output_type": "execute_result"
    }
   ],
   "source": [
    "updater.est_mean()"
   ]
  },
  {
   "cell_type": "code",
   "execution_count": 456,
   "metadata": {
    "collapsed": false
   },
   "outputs": [
    {
     "data": {
      "text/plain": [
       "array([ -2.22044605e-16,  -4.84790920e-02,   7.16913482e-02,\n",
       "         1.82689526e-01,   6.88102787e-02,   6.80501189e-03,\n",
       "        -1.31056563e-01,   1.24791828e-01,  -5.67253589e-02,\n",
       "        -3.93797509e-02,   5.56913729e-03,  -6.36706922e-02,\n",
       "         2.34715954e-01,   3.95666419e-02,   1.12788463e-01,\n",
       "         2.57448149e-01])"
      ]
     },
     "execution_count": 456,
     "metadata": {},
     "output_type": "execute_result"
    }
   ],
   "source": [
    "(true_mps - updater.est_mean())[0, :]"
   ]
  },
  {
   "cell_type": "code",
   "execution_count": 457,
   "metadata": {
    "collapsed": false
   },
   "outputs": [
    {
     "data": {
      "text/plain": [
       "[<matplotlib.lines.Line2D at 0x117954950>]"
      ]
     },
     "execution_count": 457,
     "metadata": {},
     "output_type": "execute_result"
    },
    {
     "data": {
      "image/png": "[encoded data removed]",
      "text/plain": [
       "<matplotlib.figure.Figure at 0x117516ed0>"
      ]
     },
     "metadata": {},
     "output_type": "display_data"
    }
   ],
   "source": [
    "plt.plot(true_mps[0])"
   ]
  },
  {
   "cell_type": "code",
   "execution_count": 458,
   "metadata": {
    "collapsed": false
   },
   "outputs": [
    {
     "data": {
      "text/plain": [
       "<Container object of 16 artists>"
      ]
     },
     "execution_count": 458,
     "metadata": {},
     "output_type": "execute_result"
    },
    {
     "data": {
      "image/png": "[encoded data removed]",
      "text/plain": [
       "<matplotlib.figure.Figure at 0x11796d490>"
      ]
     },
     "metadata": {},
     "output_type": "display_data"
    }
   ],
   "source": [
    "plt.bar(np.arange(16), (true_mps - updater.est_mean())[0, :])\n",
    "# plt.xticks(np.arange(16) + 0.5, map(\"${}$\".format, basis.labels), rotation='vertical')"
   ]
  },
  {
   "cell_type": "markdown",
   "metadata": {},
   "source": [
    "NB: we omit the traceful part (modelparam 0) when taking the hull. The convex hull algorithm (quickhull) is fast in the number of points, but very slow in the number of dimensions, so this call will take a long time."
   ]
  },
  {
   "cell_type": "code",
   "execution_count": null,
   "metadata": {
    "collapsed": false
   },
   "outputs": [],
   "source": [
    "faces, vertices = updater.region_est_hull(modelparam_slice=np.s_[1:])"
   ]
  },
  {
   "cell_type": "code",
   "execution_count": 630,
   "metadata": {
    "collapsed": false
   },
   "outputs": [
    {
     "name": "stdout",
     "output_type": "stream",
     "text": [
      "GS_2\n"
     ]
    }
   ],
   "source": [
    "import h5py\n",
    "f = h5py.File('Fiducials.hdf5','r')\n",
    "\n",
    "for key in f.keys():\n",
    "    print(key)"
   ]
  },
  {
   "cell_type": "code",
   "execution_count": 631,
   "metadata": {
    "collapsed": false
   },
   "outputs": [],
   "source": [
    "GS_2=[]\n",
    "\n",
    "for data in f[\"GS_2\"]:\n",
    "    GS_2.append(data)"
   ]
  },
  {
   "cell_type": "code",
   "execution_count": 632,
   "metadata": {
    "collapsed": false
   },
   "outputs": [
    {
     "name": "stdout",
     "output_type": "stream",
     "text": [
      "[ 993.79707576   75.32122286  533.00841825  532.12228622   80.19494905\n",
      "    9.74745237   54.05405405   48.73726185  543.19893664   42.53433762\n",
      "  277.80239256  282.67611874  536.55294639   49.62339389  301.28489145\n",
      "  295.52503323  990.25254763   82.41027913  543.64200266  541.86973859\n",
      "   77.53655295   10.19051839   55.3832521    45.19273372  548.95879486\n",
      "   54.05405405  301.72795747  276.03012849  545.41426673   43.42046965\n",
      "  295.08196721  294.19583518]\n"
     ]
    }
   ],
   "source": [
    "print(np.multiply(GS_2,1000))"
   ]
  },
  {
   "cell_type": "code",
   "execution_count": 633,
   "metadata": {
    "collapsed": false
   },
   "outputs": [
    {
     "data": {
      "text/plain": [
       "[<matplotlib.lines.Line2D at 0x11b4e0550>]"
      ]
     },
     "execution_count": 633,
     "metadata": {},
     "output_type": "execute_result"
    },
    {
     "data": {
      "image/png": "[encoded data removed]",
      "text/plain": [
       "<matplotlib.figure.Figure at 0x11b4e0490>"
      ]
     },
     "metadata": {},
     "output_type": "display_data"
    }
   ],
   "source": [
    "plt.plot(np.multiply(GS[0:15],1000))\n",
    "# plt.show()\n",
    "plt.plot(test_data)"
   ]
  },
  {
   "cell_type": "code",
   "execution_count": null,
   "metadata": {
    "collapsed": true
   },
   "outputs": [],
   "source": []
  }
 ],
 "metadata": {
  "anaconda-cloud": {},
  "kernelspec": {
   "display_name": "Python [conda root]",
   "language": "python",
   "name": "conda-root-py"
  },
  "language_info": {
   "codemirror_mode": {
    "name": "ipython",
    "version": 2
   },
   "file_extension": ".py",
   "mimetype": "text/x-python",
   "name": "python",
   "nbconvert_exporter": "python",
   "pygments_lexer": "ipython2",
   "version": "2.7.13"
  }
 },
 "nbformat": 4,
 "nbformat_minor": 1
}
